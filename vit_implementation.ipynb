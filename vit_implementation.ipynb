{
  "nbformat": 4,
  "nbformat_minor": 0,
  "metadata": {
    "colab": {
      "name": "ViT.ipynb",
      "provenance": [],
      "collapsed_sections": [],
      "toc_visible": true
    },
    "kernelspec": {
      "name": "python3",
      "display_name": "Python 3"
    },
    "language_info": {
      "name": "python"
    },
    "accelerator": "GPU",
    "widgets": {
      "application/vnd.jupyter.widget-state+json": {
        "bbcc3c20b5c0465d8a4616a1ec67d842": {
          "model_module": "@jupyter-widgets/controls",
          "model_name": "HBoxModel",
          "model_module_version": "1.5.0",
          "state": {
            "_view_name": "HBoxView",
            "_dom_classes": [],
            "_model_name": "HBoxModel",
            "_view_module": "@jupyter-widgets/controls",
            "_model_module_version": "1.5.0",
            "_view_count": null,
            "_view_module_version": "1.5.0",
            "box_style": "",
            "layout": "IPY_MODEL_e9dc624b328040f9adafbde758b91313",
            "_model_module": "@jupyter-widgets/controls",
            "children": [
              "IPY_MODEL_9f5b29ba5150416ebbe7dffb2d615d87",
              "IPY_MODEL_0bce02bf156c409eb2bb50010116f9cd",
              "IPY_MODEL_e0717219f3dc4577a6984418ec1bce6b"
            ]
          }
        },
        "e9dc624b328040f9adafbde758b91313": {
          "model_module": "@jupyter-widgets/base",
          "model_name": "LayoutModel",
          "model_module_version": "1.2.0",
          "state": {
            "_view_name": "LayoutView",
            "grid_template_rows": null,
            "right": null,
            "justify_content": null,
            "_view_module": "@jupyter-widgets/base",
            "overflow": null,
            "_model_module_version": "1.2.0",
            "_view_count": null,
            "flex_flow": null,
            "width": null,
            "min_width": null,
            "border": null,
            "align_items": null,
            "bottom": null,
            "_model_module": "@jupyter-widgets/base",
            "top": null,
            "grid_column": null,
            "overflow_y": null,
            "overflow_x": null,
            "grid_auto_flow": null,
            "grid_area": null,
            "grid_template_columns": null,
            "flex": null,
            "_model_name": "LayoutModel",
            "justify_items": null,
            "grid_row": null,
            "max_height": null,
            "align_content": null,
            "visibility": null,
            "align_self": null,
            "height": null,
            "min_height": null,
            "padding": null,
            "grid_auto_rows": null,
            "grid_gap": null,
            "max_width": null,
            "order": null,
            "_view_module_version": "1.2.0",
            "grid_template_areas": null,
            "object_position": null,
            "object_fit": null,
            "grid_auto_columns": null,
            "margin": null,
            "display": null,
            "left": null
          }
        },
        "9f5b29ba5150416ebbe7dffb2d615d87": {
          "model_module": "@jupyter-widgets/controls",
          "model_name": "HTMLModel",
          "model_module_version": "1.5.0",
          "state": {
            "_view_name": "HTMLView",
            "style": "IPY_MODEL_26e2e74ce3b14c79964217ed74cbb968",
            "_dom_classes": [],
            "description": "",
            "_model_name": "HTMLModel",
            "placeholder": "​",
            "_view_module": "@jupyter-widgets/controls",
            "_model_module_version": "1.5.0",
            "value": "",
            "_view_count": null,
            "_view_module_version": "1.5.0",
            "description_tooltip": null,
            "_model_module": "@jupyter-widgets/controls",
            "layout": "IPY_MODEL_feaffee5751344829bc6a581b29f2679"
          }
        },
        "0bce02bf156c409eb2bb50010116f9cd": {
          "model_module": "@jupyter-widgets/controls",
          "model_name": "FloatProgressModel",
          "model_module_version": "1.5.0",
          "state": {
            "_view_name": "ProgressView",
            "style": "IPY_MODEL_c954f6e91a18425ea1db0ab9aaa51e43",
            "_dom_classes": [],
            "description": "",
            "_model_name": "FloatProgressModel",
            "bar_style": "success",
            "max": 169001437,
            "_view_module": "@jupyter-widgets/controls",
            "_model_module_version": "1.5.0",
            "value": 169001437,
            "_view_count": null,
            "_view_module_version": "1.5.0",
            "orientation": "horizontal",
            "min": 0,
            "description_tooltip": null,
            "_model_module": "@jupyter-widgets/controls",
            "layout": "IPY_MODEL_db6e766bbc5e4b7ca69ba0cacb39d673"
          }
        },
        "e0717219f3dc4577a6984418ec1bce6b": {
          "model_module": "@jupyter-widgets/controls",
          "model_name": "HTMLModel",
          "model_module_version": "1.5.0",
          "state": {
            "_view_name": "HTMLView",
            "style": "IPY_MODEL_85f9f926e33f4a7bbd2da7d1db0b82b4",
            "_dom_classes": [],
            "description": "",
            "_model_name": "HTMLModel",
            "placeholder": "​",
            "_view_module": "@jupyter-widgets/controls",
            "_model_module_version": "1.5.0",
            "value": " 169001984/? [00:03&lt;00:00, 54076112.55it/s]",
            "_view_count": null,
            "_view_module_version": "1.5.0",
            "description_tooltip": null,
            "_model_module": "@jupyter-widgets/controls",
            "layout": "IPY_MODEL_3761bbee53644d17bf541ba925569f44"
          }
        },
        "26e2e74ce3b14c79964217ed74cbb968": {
          "model_module": "@jupyter-widgets/controls",
          "model_name": "DescriptionStyleModel",
          "model_module_version": "1.5.0",
          "state": {
            "_view_name": "StyleView",
            "_model_name": "DescriptionStyleModel",
            "description_width": "",
            "_view_module": "@jupyter-widgets/base",
            "_model_module_version": "1.5.0",
            "_view_count": null,
            "_view_module_version": "1.2.0",
            "_model_module": "@jupyter-widgets/controls"
          }
        },
        "feaffee5751344829bc6a581b29f2679": {
          "model_module": "@jupyter-widgets/base",
          "model_name": "LayoutModel",
          "model_module_version": "1.2.0",
          "state": {
            "_view_name": "LayoutView",
            "grid_template_rows": null,
            "right": null,
            "justify_content": null,
            "_view_module": "@jupyter-widgets/base",
            "overflow": null,
            "_model_module_version": "1.2.0",
            "_view_count": null,
            "flex_flow": null,
            "width": null,
            "min_width": null,
            "border": null,
            "align_items": null,
            "bottom": null,
            "_model_module": "@jupyter-widgets/base",
            "top": null,
            "grid_column": null,
            "overflow_y": null,
            "overflow_x": null,
            "grid_auto_flow": null,
            "grid_area": null,
            "grid_template_columns": null,
            "flex": null,
            "_model_name": "LayoutModel",
            "justify_items": null,
            "grid_row": null,
            "max_height": null,
            "align_content": null,
            "visibility": null,
            "align_self": null,
            "height": null,
            "min_height": null,
            "padding": null,
            "grid_auto_rows": null,
            "grid_gap": null,
            "max_width": null,
            "order": null,
            "_view_module_version": "1.2.0",
            "grid_template_areas": null,
            "object_position": null,
            "object_fit": null,
            "grid_auto_columns": null,
            "margin": null,
            "display": null,
            "left": null
          }
        },
        "c954f6e91a18425ea1db0ab9aaa51e43": {
          "model_module": "@jupyter-widgets/controls",
          "model_name": "ProgressStyleModel",
          "model_module_version": "1.5.0",
          "state": {
            "_view_name": "StyleView",
            "_model_name": "ProgressStyleModel",
            "description_width": "",
            "_view_module": "@jupyter-widgets/base",
            "_model_module_version": "1.5.0",
            "_view_count": null,
            "_view_module_version": "1.2.0",
            "bar_color": null,
            "_model_module": "@jupyter-widgets/controls"
          }
        },
        "db6e766bbc5e4b7ca69ba0cacb39d673": {
          "model_module": "@jupyter-widgets/base",
          "model_name": "LayoutModel",
          "model_module_version": "1.2.0",
          "state": {
            "_view_name": "LayoutView",
            "grid_template_rows": null,
            "right": null,
            "justify_content": null,
            "_view_module": "@jupyter-widgets/base",
            "overflow": null,
            "_model_module_version": "1.2.0",
            "_view_count": null,
            "flex_flow": null,
            "width": null,
            "min_width": null,
            "border": null,
            "align_items": null,
            "bottom": null,
            "_model_module": "@jupyter-widgets/base",
            "top": null,
            "grid_column": null,
            "overflow_y": null,
            "overflow_x": null,
            "grid_auto_flow": null,
            "grid_area": null,
            "grid_template_columns": null,
            "flex": null,
            "_model_name": "LayoutModel",
            "justify_items": null,
            "grid_row": null,
            "max_height": null,
            "align_content": null,
            "visibility": null,
            "align_self": null,
            "height": null,
            "min_height": null,
            "padding": null,
            "grid_auto_rows": null,
            "grid_gap": null,
            "max_width": null,
            "order": null,
            "_view_module_version": "1.2.0",
            "grid_template_areas": null,
            "object_position": null,
            "object_fit": null,
            "grid_auto_columns": null,
            "margin": null,
            "display": null,
            "left": null
          }
        },
        "85f9f926e33f4a7bbd2da7d1db0b82b4": {
          "model_module": "@jupyter-widgets/controls",
          "model_name": "DescriptionStyleModel",
          "model_module_version": "1.5.0",
          "state": {
            "_view_name": "StyleView",
            "_model_name": "DescriptionStyleModel",
            "description_width": "",
            "_view_module": "@jupyter-widgets/base",
            "_model_module_version": "1.5.0",
            "_view_count": null,
            "_view_module_version": "1.2.0",
            "_model_module": "@jupyter-widgets/controls"
          }
        },
        "3761bbee53644d17bf541ba925569f44": {
          "model_module": "@jupyter-widgets/base",
          "model_name": "LayoutModel",
          "model_module_version": "1.2.0",
          "state": {
            "_view_name": "LayoutView",
            "grid_template_rows": null,
            "right": null,
            "justify_content": null,
            "_view_module": "@jupyter-widgets/base",
            "overflow": null,
            "_model_module_version": "1.2.0",
            "_view_count": null,
            "flex_flow": null,
            "width": null,
            "min_width": null,
            "border": null,
            "align_items": null,
            "bottom": null,
            "_model_module": "@jupyter-widgets/base",
            "top": null,
            "grid_column": null,
            "overflow_y": null,
            "overflow_x": null,
            "grid_auto_flow": null,
            "grid_area": null,
            "grid_template_columns": null,
            "flex": null,
            "_model_name": "LayoutModel",
            "justify_items": null,
            "grid_row": null,
            "max_height": null,
            "align_content": null,
            "visibility": null,
            "align_self": null,
            "height": null,
            "min_height": null,
            "padding": null,
            "grid_auto_rows": null,
            "grid_gap": null,
            "max_width": null,
            "order": null,
            "_view_module_version": "1.2.0",
            "grid_template_areas": null,
            "object_position": null,
            "object_fit": null,
            "grid_auto_columns": null,
            "margin": null,
            "display": null,
            "left": null
          }
        }
      }
    }
  },
  "cells": [
    {
      "cell_type": "code",
      "metadata": {
        "id": "p8q3a2MytluZ"
      },
      "source": [
        "import torch\n",
        "import torch.nn as nn\n",
        "from numpy import random"
      ],
      "execution_count": null,
      "outputs": []
    },
    {
      "cell_type": "code",
      "metadata": {
        "id": "q7dAPJhLHW5E"
      },
      "source": [
        "IMG_SIZE = 32\n",
        "EMB_DIM = 768\n",
        "N_HEADS = 1\n",
        "N_LAYERS = 4\n",
        "N_CLASSES = 100\n",
        "PATCH_SIZE = 16\n",
        "DROPOUT = 0.1\n",
        "LR = 1e-5"
      ],
      "execution_count": null,
      "outputs": []
    },
    {
      "cell_type": "markdown",
      "metadata": {
        "id": "xG0b0pRTtdCH"
      },
      "source": [
        "#Multihead Self Attention"
      ]
    },
    {
      "cell_type": "code",
      "metadata": {
        "id": "sA6RbOR-tg_b"
      },
      "source": [
        "class Attention(nn.Module):\n",
        "    \"\"\"\n",
        "    parameters: \n",
        "        + dim: int\n",
        "            dimension of input\n",
        "        + n_heads: int\n",
        "            number of head in multihead attention\n",
        "        + dropout: float\n",
        "            dropout probability\n",
        "\n",
        "    attribute:\n",
        "        + self.qkv: Linear(dim, 3*dim)\n",
        "        + self.scale: float:\n",
        "        + self.head_dim: int\n",
        "        + self.proj: Linear(dim, dim)\n",
        "    \"\"\"\n",
        "\n",
        "    def __init__(self, dim = EMB_DIM, n_heads = N_HEADS, dropout = DROPOUT):\n",
        "        super().__init__()\n",
        "        self.dim = dim \n",
        "        self.n_heads = n_heads\n",
        "        self.head_dim = dim // n_heads \n",
        "        self.scale = (self.head_dim) ** (-0.5)\n",
        "        self.qkv = nn.Linear(dim, dim*3)\n",
        "        self.proj = nn.Linear(dim, dim)\n",
        "        self.dropout = nn.Dropout(dropout)\n",
        "\n",
        "    def forward(self, x):\n",
        "        \"\"\"\n",
        "        input: \n",
        "            + x: torch.Tensor:\n",
        "                shape = (batch x (N+1) x dim)\n",
        "        returns:\n",
        "            + torch.Tensor:\n",
        "                shape = (batch x (N+1) x dim)        \n",
        "        \"\"\"\n",
        "        batch, N, dim = x.shape\n",
        "        N = N-1\n",
        "\n",
        "        qkv = self.qkv(x)\n",
        "        #batch x (N+1) x 3.dim\n",
        "        qkv = qkv.reshape(\n",
        "            batch, N+1, 3, self.n_heads, self.head_dim\n",
        "        )\n",
        "        #(batch x (N+1) x 3 x n_heads x head_dim)\n",
        "        qkv = qkv.permute(\n",
        "            2,0,3,1,4\n",
        "        )\n",
        "        #(3 x batch x n_heads x (N+1) x head_dim)\n",
        "\n",
        "\n",
        "        q = qkv[0] #(batch x n_heads x (N+1) x head_dim)\n",
        "        k = qkv[1] #(batch x n_heads x (N+1) x head_dim)\n",
        "        v = qkv[2] #(batch x n_heads x (N+1) x head_dim)\n",
        "\n",
        "        attn_weight = (q @ k.transpose(-2,-1))*self.scale\n",
        "        #(batch x n_heads x (N+1) x (N+1))\n",
        "        attn_weight = attn_weight.softmax(dim = -1)\n",
        "        attn_weight = self.dropout(attn_weight)\n",
        "\n",
        "        attn_score = attn_weight @ v\n",
        "        #(batch x n_heads x (N+1) x head_dim)\n",
        "        attn_score = attn_score.transpose(1,2)\n",
        "        attn_score = attn_score.flatten(-2)\n",
        "        #(batch x n_heads x dim)\n",
        "        out = self.proj(attn_score)\n",
        "\n",
        "        return out\n"
      ],
      "execution_count": null,
      "outputs": []
    },
    {
      "cell_type": "code",
      "metadata": {
        "colab": {
          "base_uri": "https://localhost:8080/"
        },
        "id": "HooFtgZanSpF",
        "outputId": "21484139-43ef-476e-854c-e34f3679e2ac"
      },
      "source": [
        "x = torch.rand(256, 4, 768)\n",
        "x.shape"
      ],
      "execution_count": null,
      "outputs": [
        {
          "output_type": "execute_result",
          "data": {
            "text/plain": [
              "torch.Size([256, 4, 768])"
            ]
          },
          "metadata": {},
          "execution_count": 6
        }
      ]
    },
    {
      "cell_type": "code",
      "metadata": {
        "id": "b6h9kmjefu4w"
      },
      "source": [
        "test_attention = Attention()"
      ],
      "execution_count": null,
      "outputs": []
    },
    {
      "cell_type": "code",
      "metadata": {
        "id": "o1TfkRviyDRg",
        "colab": {
          "base_uri": "https://localhost:8080/"
        },
        "outputId": "b9a179e9-6e5a-4b99-baa0-ec34294aff0c"
      },
      "source": [
        "test_attention = Attention()\n",
        "out = test_attention(x)\n",
        "out.shape"
      ],
      "execution_count": null,
      "outputs": [
        {
          "output_type": "execute_result",
          "data": {
            "text/plain": [
              "torch.Size([256, 4, 768])"
            ]
          },
          "metadata": {},
          "execution_count": 8
        }
      ]
    },
    {
      "cell_type": "markdown",
      "metadata": {
        "id": "DLms7jAX0uYA"
      },
      "source": [
        "# MLP"
      ]
    },
    {
      "cell_type": "code",
      "metadata": {
        "id": "aE8uGvz50t2f"
      },
      "source": [
        "class MLP(nn.Module):\n",
        "    \"\"\"\n",
        "    parameters:\n",
        "        + in_dim: int\n",
        "        + hidden_dim: int \n",
        "        + out_dim: int\n",
        "        + dropout\n",
        "    attribute:\n",
        "        + self.fc1 = nn.Linear(in_dim, hidden_dim)\n",
        "        + self.fc2 = nn.Linear(hidden_dim, out_dim)\n",
        "        + self.dropout = nn.Dropout(dropout)\n",
        "        + self.act: nn.GLEU()\n",
        "            activate function\n",
        "    \"\"\"\n",
        "    def __init__(self, in_dim = EMB_DIM, hidden_dim = 1024, out_dim = EMB_DIM, dropout = DROPOUT):\n",
        "        super().__init__()\n",
        "        self.in_dim = in_dim\n",
        "        self.out_dim = out_dim\n",
        "        self.hidden_dim = hidden_dim\n",
        "\n",
        "        self.dropout = nn.Dropout(dropout)\n",
        "        self.fc1= nn.Linear(in_dim, hidden_dim)\n",
        "        self.fc2 = nn.Linear(hidden_dim, out_dim)\n",
        "        self.act = nn.GELU()\n",
        "\n",
        "    def forward(self, x):\n",
        "        \"\"\"\n",
        "        input: \n",
        "            + x: torch.Tensor\n",
        "                shape = (batch x (N+1) x dim)\n",
        "        returns:\n",
        "            torch.Tensor:\n",
        "                shape = (batch x (N+1) x dim)\n",
        "        \"\"\"\n",
        "\n",
        "        x = self.fc1(x)\n",
        "        x = self.act(x)\n",
        "        x = self.fc2(x)\n",
        "        x = self.dropout(x)\n",
        "        return x"
      ],
      "execution_count": null,
      "outputs": []
    },
    {
      "cell_type": "code",
      "metadata": {
        "id": "ugLm1At74NSA"
      },
      "source": [
        "test_MLP = MLP()"
      ],
      "execution_count": null,
      "outputs": []
    },
    {
      "cell_type": "code",
      "metadata": {
        "id": "oL8dQrGH4PXV"
      },
      "source": [
        "y = test_MLP(x)"
      ],
      "execution_count": null,
      "outputs": []
    },
    {
      "cell_type": "code",
      "metadata": {
        "colab": {
          "base_uri": "https://localhost:8080/"
        },
        "id": "O2L0c-dw4uYm",
        "outputId": "64904ceb-c6f2-46d5-ded0-922c73cf0e0c"
      },
      "source": [
        "y.shape"
      ],
      "execution_count": null,
      "outputs": [
        {
          "output_type": "execute_result",
          "data": {
            "text/plain": [
              "torch.Size([256, 4, 768])"
            ]
          },
          "metadata": {},
          "execution_count": 12
        }
      ]
    },
    {
      "cell_type": "markdown",
      "metadata": {
        "id": "LTDkC-1U44XA"
      },
      "source": [
        "# Build block"
      ]
    },
    {
      "cell_type": "code",
      "metadata": {
        "id": "mrfkN7YZ4v1F"
      },
      "source": [
        "class Block(nn.Module):\n",
        "    \"\"\"\n",
        "    parameters:\n",
        "        + dim: int\n",
        "        + n_heads: int\n",
        "        + hidden_dim: int\n",
        "        + dropout: float\n",
        "    attribute:\n",
        "        + self.mlp\n",
        "        + self.norm1, self.norm2: LayerNorm\n",
        "        + self.attn\n",
        "    \"\"\"\n",
        "\n",
        "    def __init__(self, dim = EMB_DIM , n_heads = N_HEADS, hidden_dim = 1024, dropout = DROPOUT):\n",
        "        super().__init__()\n",
        "        self.norm1 = nn.LayerNorm(dim, eps = 1e-6)\n",
        "        self.norm2 = nn.LayerNorm(dim, eps = 1e-6)\n",
        "        self.mlp = MLP(\n",
        "            in_dim = dim,\n",
        "            hidden_dim = hidden_dim,\n",
        "            out_dim = dim,\n",
        "            dropout = dropout\n",
        "        )\n",
        "\n",
        "        self.attn = Attention(\n",
        "            dim = dim, \n",
        "            n_heads = n_heads, \n",
        "            dropout = dropout\n",
        "        )\n",
        "    def forward(self, x):\n",
        "        \"\"\"\n",
        "        input: \n",
        "            + x: torcch.Tensor:\n",
        "                shape = (batch x (N+1) x dim)\n",
        "        return:\n",
        "            torch.Tensor:\n",
        "                shape = (batch x (N+1) x dim)\n",
        "        \"\"\"\n",
        "        x = self.attn(self.norm1(x)) + x\n",
        "        x = self.mlp(self.norm2(x)) + x\n",
        "        return x"
      ],
      "execution_count": null,
      "outputs": []
    },
    {
      "cell_type": "code",
      "metadata": {
        "id": "0WBO7XbT7me1"
      },
      "source": [
        "test_block = Block()"
      ],
      "execution_count": null,
      "outputs": []
    },
    {
      "cell_type": "code",
      "metadata": {
        "id": "cUYQX74F7pHC"
      },
      "source": [
        "y = test_block(x)"
      ],
      "execution_count": null,
      "outputs": []
    },
    {
      "cell_type": "code",
      "metadata": {
        "colab": {
          "base_uri": "https://localhost:8080/"
        },
        "id": "dAJrVehO7xyN",
        "outputId": "3e859078-42c3-4e8f-b577-f73afef55f48"
      },
      "source": [
        "y.shape"
      ],
      "execution_count": null,
      "outputs": [
        {
          "output_type": "execute_result",
          "data": {
            "text/plain": [
              "torch.Size([256, 4, 768])"
            ]
          },
          "metadata": {},
          "execution_count": 16
        }
      ]
    },
    {
      "cell_type": "markdown",
      "metadata": {
        "id": "6Xs0JV6h3coN"
      },
      "source": [
        "# Data\n"
      ]
    },
    {
      "cell_type": "markdown",
      "metadata": {
        "id": "jZChN3GR4qiH"
      },
      "source": [
        "## DataLoader"
      ]
    },
    {
      "cell_type": "code",
      "metadata": {
        "id": "128tHQwwDYyL"
      },
      "source": [
        "import torchvision\n",
        "import torchvision.transforms as transforms"
      ],
      "execution_count": null,
      "outputs": []
    },
    {
      "cell_type": "markdown",
      "metadata": {
        "id": "yy_RUJ_JD8-G"
      },
      "source": [
        "Using cifar-100 dataset.\n",
        "\n",
        "Convert to list for more convenient use: \n",
        "ref: https://stackoverflow.com/questions/62208904/pytorch-custom-dataset-dataloader-returns-a-list-of-tensors-rather-than-tensor"
      ]
    },
    {
      "cell_type": "code",
      "metadata": {
        "id": "X0Pak7IdDz42"
      },
      "source": [
        "class Custom_Dataset(torch.utils.data.dataset.Dataset):\n",
        "    def __init__(self, _dataset):\n",
        "        self.dataset = _dataset\n",
        "\n",
        "    def __getitem__(self, index):\n",
        "        example, target = self.dataset[index]\n",
        "        return example, target\n",
        "\n",
        "    def __len__(self):\n",
        "        return len(self.dataset)"
      ],
      "execution_count": null,
      "outputs": []
    },
    {
      "cell_type": "code",
      "metadata": {
        "colab": {
          "base_uri": "https://localhost:8080/",
          "height": 101,
          "referenced_widgets": [
            "bbcc3c20b5c0465d8a4616a1ec67d842",
            "e9dc624b328040f9adafbde758b91313",
            "9f5b29ba5150416ebbe7dffb2d615d87",
            "0bce02bf156c409eb2bb50010116f9cd",
            "e0717219f3dc4577a6984418ec1bce6b",
            "26e2e74ce3b14c79964217ed74cbb968",
            "feaffee5751344829bc6a581b29f2679",
            "c954f6e91a18425ea1db0ab9aaa51e43",
            "db6e766bbc5e4b7ca69ba0cacb39d673",
            "85f9f926e33f4a7bbd2da7d1db0b82b4",
            "3761bbee53644d17bf541ba925569f44"
          ]
        },
        "id": "hyzq3_KlDdPp",
        "outputId": "4d25792f-c39d-474e-a729-db5f460fcdcc"
      },
      "source": [
        "transform = transforms.Compose(\n",
        "    [transforms.ToTensor(),\n",
        "     transforms.Normalize((0.5, 0.5, 0.5), (0.5, 0.5, 0.5))])\n",
        "\n",
        "batch_size = 256\n",
        "trainset = torchvision.datasets.CIFAR100(root='./data', train=True,\n",
        "                                        download=True, transform = transform)\n",
        "trainloader = torch.utils.data.DataLoader(Custom_Dataset(trainset), batch_size=batch_size,\n",
        "                                          shuffle=True, num_workers=2)\n",
        "\n",
        "testset = torchvision.datasets.CIFAR100(root='./data', train=False,\n",
        "                                       download=True, transform = transform)\n",
        "validloader = torch.utils.data.DataLoader(Custom_Dataset(testset), batch_size=batch_size,\n",
        "                                         shuffle=False, num_workers=2)"
      ],
      "execution_count": null,
      "outputs": [
        {
          "output_type": "stream",
          "name": "stdout",
          "text": [
            "Downloading https://www.cs.toronto.edu/~kriz/cifar-100-python.tar.gz to ./data/cifar-100-python.tar.gz\n"
          ]
        },
        {
          "output_type": "display_data",
          "data": {
            "application/vnd.jupyter.widget-view+json": {
              "model_id": "bbcc3c20b5c0465d8a4616a1ec67d842",
              "version_minor": 0,
              "version_major": 2
            },
            "text/plain": [
              "  0%|          | 0/169001437 [00:00<?, ?it/s]"
            ]
          },
          "metadata": {}
        },
        {
          "output_type": "stream",
          "name": "stdout",
          "text": [
            "Extracting ./data/cifar-100-python.tar.gz to ./data\n",
            "Files already downloaded and verified\n"
          ]
        }
      ]
    },
    {
      "cell_type": "code",
      "metadata": {
        "colab": {
          "base_uri": "https://localhost:8080/"
        },
        "id": "Ae174uieEUC5",
        "outputId": "4e78d4b4-b74e-44a2-a0de-57e2996c1976"
      },
      "source": [
        "for image, label in trainloader:\n",
        "    print(image.shape)\n",
        "    print(label)\n",
        "    print(label.shape)\n",
        "    break"
      ],
      "execution_count": null,
      "outputs": [
        {
          "output_type": "stream",
          "name": "stdout",
          "text": [
            "torch.Size([256, 3, 32, 32])\n",
            "tensor([34,  4, 29,  1, 39, 19, 61, 75, 85, 96, 52, 63, 69,  9, 57, 84, 84, 84,\n",
            "        15,  1, 84, 84, 21, 21, 50, 72, 95, 23, 90, 73, 97, 43, 50, 43, 82, 89,\n",
            "        72,  1, 58, 33, 37, 95, 74, 21,  3, 88, 59,  7, 38, 88, 49, 71, 74, 99,\n",
            "        42,  5, 58, 88, 18, 43, 98, 50, 23, 47, 73,  1, 59, 57, 60, 36, 69, 48,\n",
            "        50, 85, 88, 83, 42, 53,  8, 88, 95, 72, 85, 29, 35, 81, 20, 54, 96, 54,\n",
            "        40, 85, 37, 94, 56, 61, 95,  1,  3,  5, 27, 24, 48, 78, 29, 82, 45, 56,\n",
            "        64, 87, 75, 54, 53, 33, 94, 90, 99, 49,  0, 89,  1, 98,  1, 19, 21, 63,\n",
            "        78, 40, 60, 72, 76, 81, 75,  9, 11, 54, 56, 78, 67, 27, 16, 16,  4, 91,\n",
            "        36, 40, 35, 59, 94, 98, 67, 51, 20, 23, 50, 79, 47, 86, 43, 98, 54, 36,\n",
            "        80, 64, 37, 63, 13, 79, 95,  1,  2, 99, 27, 80, 86,  7, 70, 48, 98,  4,\n",
            "        37, 88,  6, 23, 51, 41, 39, 33, 44, 61, 43,  6, 17, 67, 65, 28, 40, 22,\n",
            "        52, 55, 47, 45, 73, 84, 17, 16, 86, 32, 50,  7, 30, 42, 47, 48, 33, 75,\n",
            "        12, 87,  9, 65, 46, 51, 81,  8, 79, 95, 85, 92, 28, 50, 46, 52, 61, 71,\n",
            "        37, 80, 21,  1, 41, 85, 11,  8, 49, 36, 94, 47, 26,  6, 81, 14, 64, 61,\n",
            "        44, 41, 97, 45])\n",
            "torch.Size([256])\n"
          ]
        }
      ]
    },
    {
      "cell_type": "markdown",
      "metadata": {
        "id": "nG_esI6e4uHC"
      },
      "source": [
        "## Patches\n",
        "\n",
        "* Input: 1 batch image: `batch = 256`, shape = `[3,32,32] = [channel, height_size, width_size]`\n",
        "\n",
        "* For each image, cut to patch with size, `patch_size = 16`\n",
        "![image.png](data:image/png;base64,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)\n",
        "\n"
      ]
    },
    {
      "cell_type": "markdown",
      "metadata": {
        "id": "NCsi3EaQGJq_"
      },
      "source": [
        "* Patches: `n_patches` = $(\\frac{\\text{imgSize}}{\\text{patchSize}})^2$\n",
        "* Output: [batch, n_paches, emb_dim]"
      ]
    },
    {
      "cell_type": "code",
      "metadata": {
        "colab": {
          "base_uri": "https://localhost:8080/"
        },
        "id": "EHhKUg5IMUGc",
        "outputId": "8fe21dde-0807-46ed-90cd-0da2b057feaa"
      },
      "source": [
        "!pip install einops\n",
        "from einops import rearrange"
      ],
      "execution_count": null,
      "outputs": [
        {
          "output_type": "stream",
          "name": "stdout",
          "text": [
            "Collecting einops\n",
            "  Downloading einops-0.3.2-py3-none-any.whl (25 kB)\n",
            "Installing collected packages: einops\n",
            "Successfully installed einops-0.3.2\n"
          ]
        }
      ]
    },
    {
      "cell_type": "code",
      "metadata": {
        "id": "7a7ogAPsHNGp"
      },
      "source": [
        "class Patch(nn.Module):\n",
        "    \"\"\"\"\n",
        "    params:\n",
        "        + img_size: int\n",
        "        + emb_dimm: int \n",
        "        + patch_size: int\n",
        "        + channel: int\n",
        "    attribute:\n",
        "        + patch_dim: channel * patch_size ^2 \n",
        "        + n_paches: (img_size//patch_size) ** 2 \n",
        "        + patch_to_embedding: nn.Linear(patch_dim, emb_dim)\n",
        "            shape = [batch, n_patches, emb_dim]\n",
        "    \"\"\"\n",
        "    def __init__(self, img_size = IMG_SIZE, emb_dim = EMB_DIM, patch_size = PATCH_SIZE, channel = 3):\n",
        "        super().__init__()\n",
        "        self.img_size = img_size\n",
        "        self.emb_dim = emb_dim \n",
        "        self.patch_size = patch_size\n",
        "        self.n_patches = (img_size//patch_size)**2\n",
        "        self.patch_dim = channel * self.patch_size ** 2\n",
        "        self.patch_to_embedding = nn.Linear(self.patch_dim, emb_dim)\n",
        "    \n",
        "    def forward(self,x):\n",
        "        \"\"\"\"\n",
        "        input:\n",
        "            + x: torch.Tensor:\n",
        "                shape = [batch, channel, img_size, img_size]\n",
        "        return:\n",
        "            + torch.Tensor():\n",
        "                shape = [batch, n_patches, emb_dim]\n",
        "        \"\"\"\n",
        "        x = rearrange(x, 'b c (h p1) (w p2) -> b (h w) (p1 p2 c)', p1 = self.patch_size, p2 = self.patch_size)\n",
        "        x = self.patch_to_embedding(x)\n",
        "\n",
        "        return x\n",
        "\n"
      ],
      "execution_count": null,
      "outputs": []
    },
    {
      "cell_type": "code",
      "metadata": {
        "colab": {
          "base_uri": "https://localhost:8080/"
        },
        "id": "n3QmeZpKLrq9",
        "outputId": "5e284bdf-526a-48f4-d361-45c5b82d7ffa"
      },
      "source": [
        "x = torch.Tensor(random.rand(256,3,32,32))\n",
        "x.shape"
      ],
      "execution_count": null,
      "outputs": [
        {
          "output_type": "execute_result",
          "data": {
            "text/plain": [
              "torch.Size([256, 3, 32, 32])"
            ]
          },
          "metadata": {},
          "execution_count": 23
        }
      ]
    },
    {
      "cell_type": "code",
      "metadata": {
        "colab": {
          "base_uri": "https://localhost:8080/"
        },
        "id": "SKgSijNYMuWC",
        "outputId": "e9a23655-13d1-4953-85ea-de59898c73a1"
      },
      "source": [
        "test_patch = Patch()\n",
        "y = test_patch(x)\n",
        "y.shape"
      ],
      "execution_count": null,
      "outputs": [
        {
          "output_type": "execute_result",
          "data": {
            "text/plain": [
              "torch.Size([256, 4, 768])"
            ]
          },
          "metadata": {},
          "execution_count": 24
        }
      ]
    },
    {
      "cell_type": "markdown",
      "metadata": {
        "id": "h32yJQIZ3ppC"
      },
      "source": [
        "# ViT"
      ]
    },
    {
      "cell_type": "code",
      "metadata": {
        "id": "GQI1A6JxNbTo"
      },
      "source": [
        "class ViT(nn.Module):\n",
        "    def __init__(\n",
        "        self,\n",
        "        img_size = IMG_SIZE, \n",
        "        patch_size = PATCH_SIZE, \n",
        "        dim = EMB_DIM,\n",
        "        n_heads = N_HEADS,\n",
        "        n_layers = N_LAYERS, \n",
        "        hidden_dim_mlp = 1024, \n",
        "        n_classes = N_CLASSES,\n",
        "        dropout = DROPOUT\n",
        "        ):\n",
        "\n",
        "        super().__init__()\n",
        "        self.img_emb = Patch(img_size,dim, patch_size)\n",
        "        self.cls_token = nn.Parameter(torch.zeros(1,1,dim))\n",
        "        self.pos_emb = nn.Parameter(torch.zeros(1,self.img_emb.n_patches + 1, dim))\n",
        "        self.dim = dim \n",
        "        self.blocks = nn.ModuleList(\n",
        "            [\n",
        "                Block(dim, n_heads, hidden_dim=hidden_dim_mlp, dropout = dropout) \n",
        "                for _ in range(n_layers)\n",
        "            ]\n",
        "\n",
        "        )\n",
        "        self.out = nn.Linear(dim, n_classes)\n",
        "    def forward(self,x):\n",
        "        \"\"\"\n",
        "        imput:\n",
        "            x: (IMG) torch.Tensor\n",
        "                shape = [batch, channel, img_size, img_size]\n",
        "        return torch.Tensor()\n",
        "        \"\"\"\n",
        "        batch = x.shape[0]\n",
        "        x = self.img_emb(x)\n",
        "        #batch x n_patchese x dim\n",
        "        cls_token = self.cls_token.expand(\n",
        "            batch, -1, -1 \n",
        "        )\n",
        "        # print('cls init shape : ', cls_token.shape)\n",
        "        # batch x 1 x dim\n",
        "        x = torch.cat((cls_token, x), dim = 1)\n",
        "        #batch x (n_patches + 1) x dim \n",
        "        x = x + self.pos_emb\n",
        "\n",
        "        for block in self.blocks:\n",
        "            x = block(x)\n",
        "\n",
        "        # print(x.shape)\n",
        "        cls_token = x[:,0]\n",
        "        # print('cls_token shape : ', cls_token.shape)\n",
        "        out = self.out(cls_token)\n",
        "        # print(f'out shape =  {out.shape}')\n",
        "        return out"
      ],
      "execution_count": null,
      "outputs": []
    },
    {
      "cell_type": "markdown",
      "metadata": {
        "id": "F6C3OzPpDGcs"
      },
      "source": [
        "Note: torch.expand, if dimension not changing, passing -1. \n",
        "![image.png](data:image/png;base64,iVBORw0KGgoAAAANSUhEUgAAAkUAAADTCAIAAAAAvPDhAAAgAElEQVR4Ae2da1gT19r33y/vh+fa176e3XbvWs8MSIbjeCCoEA/EQ0kVsVaoVmgVFAW1YLXQWqha6bNr3UVo3QpWobaCB1BLUAxaSPCQoMbSbdQWD9tYa9weUCCTBNS31/NeK2uYLCYHUZOg9s4HnUxm7rXWb61Z/7nvdQ/zf/4XPkAACAABIAAEnn0C/+c4fIAAEAACQAAIPPsEkJ6x8AECQAAIAAEg8CwTOH78OOjZs9yBUHcgAASAABCwEgA9g4EABIAAEAACzwMB0LPnoRehDUAACAABIAB6BmMACAABIAAEngcCoGfPQy9CG4AAEAACQAD0DMYAEAACQAAIPA8EQM+eh16ENgABIAAEgADoGYwBIAAEgAAQeB4I/IH0TL9pWdKSsh8tz0O3QRuAABAAAkBAQAD0TAAEvgIBIAAEgMAzSQD07JnsNqg0EAACQAAICAg40TPT3cslH8xPW/fDde74O6c3Lk9M/1RtEJzv4Kvp7qW6LWs+WDg/KWne4lVrq3+5bkJHtVku1XyckrZCcd5sPcl09+q2nAXz/6f8V/TVoslbmLBq48HC3GUL589buPTjLQd+vYuNG82Gc3sKP8tZtiglaU7KwsxPC/c23cQ/tVmuKHOS5nypOP71/2QuTEmal55TpL6C7bOs0XTz/P51K99F+5fnK5SFEG/E2OBfIAAEgMBzSMCJnrGsse1M5dKURWvqkTw0n/hmSVL6lyewMrnGcG3f/6S/s/CjrxWH/3XiaOXaD5MXfnyIU8H2y/v+vmDhR/JLLMsaz5V9TPxk0eTNT0qau6yw5t83W66fqV2TPmfp1pOtqKjW9l/qPl/39f5a5YnGn07WV+d9kJqydv9/0E9Yz5LmLvtkd+O/bxt+PbJ++dsL/36UE8I7dZ+nv7Pww29qT5xU//DFB4tSkmD9zHXfwa9AAAgAgWeXgFM9Q5Jzfm9u0sKP6n75acOy+e9u0dx6eDPbWHVxStLCLzqVz3T3/NfIKzrbmYVxo+bTjNmrSi81li/rFEurVYsmb8HshZ8oOcfLot/7aaJNmciC21h10eyUbOuRnH+WuRfbb7Nc+n5Z0vyNZ7A7ePDDpLkf12J3zWhs3J4BekaChG0gAASAwHNFwJWesSx7bf/KlJSUtLc/KDjLOT2uW3//p83L3ln4+XHbwe316xa+s3Z3M3ee0Wxo+GxhSkpKctr6g7dtxiyavLTEnNKr3J6Weye+m5eUvvUX/P3OWcWWT3MyF6bMT+I+yyqv8P7ZvLwT+DCj2XBkdVLiOnWziW1l69fPSXqvHB2GPqa7//pyIfhnHA34DwgAASDw3BF4iJ6xNxV5SY/g1uCwYafocP+nJKzihQqJ0OG8d+ckLfjqRLN1XQ0jtWjyFr31PztucIBb289sz0hKKWxkWdb8m+Kz5KSMNWW1jb9cunTp4kVF4XxOqLh441cO9Iy9qViXkJR1iHP4WJbVb0oHPXvuBjA0CAgAASDAEXClZ22WKw2fLZzz4apPUlMydv9Cyo8zfvd/2vx+4rJ8zaUun4tXbAtvd9RbFqakr85ZmrQsr9HmxmH/7Jt/c4bbjCeKUzj/7Oa+lXPnrTtg5H4iHS8XetbK1hfNTnr/e1sCy9kN4J856zfYDwSAABB45gm40jO81lVy+e5/6j5PT/qg8IxNftDqmunmpWO1ih9O/NxCULijLp6XgoOBxF5u02g2aP+RnvLe1hPGm+cK0uekF6o6Q45o/WxOyvL9nPzcO/cNn9lh2Js9N7Wwvp0zYtGsf7czkOhCz9osl9D6mTX2yC+ngX9m3ymwBwgAASDwfBBwqmftl/d9lpSyFOcimg2n/r5w3tItR9tsrW5t/wUlX8yyBQnxb9f2r3w3eVluae2RnxpPaGoVW9d9sobL0ce6yC3FWXMm0/LU2HXDejZv8arCuhMnGvZtykpJXszlNyJtS0xfUX3puoltPq/4ZxZ6EgAvjLnQM5ZlUX7jnJx1J6/cbbl5ed/apbMfIXBqaydsAQEgAASAwLNAwLGeGdt+2bs8Zd7yfXxeoulG/cZFXVL2nekZa7r76+Et+Vnp6PmzhelZK9YX1qNYpfk3xRcLUt799gwft2zRomfaVqmQT4bXz4o0ZZ8vXZg8Bz1/VnOp0x003b2sWI8eI5uT8m7m2qKTtcUp3dIzo+nmxT3rlqenzElZ+P5nZfv+Cc+fPQtDEuoIBIAAEHgsAo717LFMPdFJgnyQJ7IFJwMBIAAEgMAfjwDo2R+vz6HFQAAIAIHnkQDo2fPYq9AmIAAEgMAfj8DTomd/PPLQYiAABIAAEHAnAdAzd9IEW0AACAABINBTBEDPeoo8lAsEgAAQAALuJAB65k6aYAsIAAEgAAR6igDoWU+Rh3KBABAAAkDAnQRAz9xJE2wBASAABIBATxEAPesp8lAuEAACQAAIuJMA6Jk7aYItIAAEgAAQ6CkCnJ79Gz5AAAgAASAABJ5lAuCf9dSdBJQLBIAAEAAC7iQAeuZOmmALCAABIAAEeooA6FlPkYdygQAQAAJAwJ0EQM/cSRNsAQEgAASAQE8RAD3rKfJQLhAAAkAACLiTAOiZO2mCLSAABIAAEOgpAqBnPUUeygUCQAAIAAF3EgA9cydNsAUEgAAQAAI9RQD0rKfIQ7lAAAgAASDgTgKgZ+6kCbaAABAAAkCgpwiAnvUUeSgXCAABIAAE3EkA9MydNMEWEAACQAAI9BQB0LOeIg/lAgEgAASAgDsJgJ65kybYAgJAAAgAgZ4i8GzomdFsaNycm71Dx2Mymg0N/8zdeKaZ3+PljVs/lq7+SnnF7OVioTggAASAABBwTODZ0LOWDm3BCCpwsYpvxJ2D6ZEDpXPUnJ61X1Hv+VZ+7Dr/u4ONlg5t8UQmPL6iyR0iZFZlvzZAEl9tcFAS7AICQAAIAAGvE3gm9QzJ23A6fJHqlokDdr9x9eQX4nOvuuLX2t6kSIudmuMep8poNmhSw4JG5da2uyq0O7/deVCZ3ouy//j3lSRqu2MAjgECQAAIAAH2mdQzS01qeN/YlRdQ/93elvTqzJyN6uL0wRnf1RVmTpfN3e+lIGTHz/nTXhLPfOLijGZD0w9KpVJZp1J88YbILyztnwfRV1WdWncHxigQAAJAAAh0i4ArPTOoCjJipCP96UFh0lmZct0d1mhq1q2MCvGPX3MeWW9t15WNp8NeLWm0sC331KXTYyeEMYE+lA/NiOPS8ur0uApGU/PRD6PDGZqiKNEw2YyPFTji13JPvSXedsrQicm5naewLGu+od6xOHZMKI2sTY2PDebijUZTc0NSKD2mqNGCzF/TlG7Izpj3piRAxIxLTEtfXlhx0mA0NV+oyHxLiiojCpGMS5dfMbNtFv3ucVTA9CqWZfV50aQ/5DeQeX2f1ddr0e1dmjhZwgSImIjJaWuPceFE8w31t/Nl4YOpgQG0eHTi5ye45peMpvzn1fBuIm6v4N8b8uz0FeV1V7qlsoffEgUM7eLztVyUr52DOAT6i6MTCiquIPNGs+HIqsTXxomH0JSvDx0SEZuySYsX8xy2HZ3Totu/PHGCmPb1oYdOTF6maML1NJoNx/OTp0mRKR+aGZ5S5bo5gtbBVyAABIDAU0LAqZ4Zj2fLKGbc8tJajfrI9qypvlT48lNoJm3V5kdxGqbPmxLqm7geaxu7K70XFZFWWq1S1lSV/mOWxL+vJKlzeelyXfkepfqYRqn4KiGiP/3qN0jqWq2nhC8pr1YpD8tLP53OiPwS11ljhlgpqcHx726X16kUO9YnRftxetbSoV0TQQ1dquEJmq/KPxopTcpOHDf2yx+sS2iWSxtnDKSjlpQfOqXVNsh31KK5m9Qzi6FJZ/2c/qn8IzEVNDxL/h+2tb2pajrjNzq5QK7WNsg3zxQH+CQX/opUXJMa5h+UnFejPnlKrd5uW6g7tSRMID98rfiNK/LcBdGM30BmZFLOhrom12oh1LNble8H0cEzc0tV6oaDxe+NppkxRZp2ri39Xs3do1LWK+Q73pUF9xPjxTxnbT84S+wXEJtWIq+rl387XxbSh1v8w1gGjs3ZrlA2KBX7TnJ3IXz9YQMIAAEg8EwQcKxnbRZ9VZyInlrGp06czYoMCsrZ14Ea1fFz/oyB9NilGa8PEE/awU1/WJzGbbS6D1bXrWQ0xXR6UTyL1nYd9ml4PeNPQeG7XnRMGXKJfldlRvZlpu3l3CMyH6TViFab+LOMZkN9ctiQ2LKmNl3JKDryPc0tE/ugIXvcK2L+dFw6qWd4j9Fs+DEDuZt51sTJBw3Z4/8mST7GVdZ4e9uC3vRrJdeNZkNVnChwxJcau6Uyw4Ypof+Vtv4e3z60cfuOAX9+u2Pzya7+WF6YHh/lT4mGJ767Uf6jkzwSgZ7p86KD+qVtauPsd1SmDn9J9uGZLtqMXK976tXDkKfIso7bjoD0ZjBbq2PdVDaexj6uPZYujYEvQAAIAIFnhIBjPbt7vy47kAzIoe3gF5L5iVWfNyXQhyIFT6BnLMteWBGFTzGaDec2ZyVFS8IZOlQsGSGiBryDgn6CU7BQRRQgd69585SgP8djXw3N10R+I5KZPtRrJbZcxjaLXn8N8W79tx7H3JCnlSAJGsCMm5NTtJ9ziewn7pvlSZJektjvOUlu3hwnbDNFRXxwBtWnfnVsMDVoZPz8/PKGy7a+vVUaF/xCcl6n3vBVxXZCXsko7ip1ll+VX7zB+PrQE0odr4yRemY0NdckiARVGtRfPPsHoZ61WfQVMT7BMRW3TFYv067tzZvjgv7cJV9GnxeNe8cei615sAUEgAAQeHYIuNKzoBllOCjHheaa9DhW1treVB7PDBpCi/wS8UKavTiRenazPCmsr3j6qvJDWp2uUf6JxLGe3XlQmfUS1alnXeZfUs8E/pkz1EZT8zV1edEC2dCBVPjrJXyMDq+fsSzbfnHbfH96xDIV/wxZ8+Yp9MuyRfVko3XnrErJsqzluq62JGvuSNrPV8rHUe39M1TuCTX+NBxp4o3fOKMoyUycGIpEMXVdt/wzrGd0aFbZz7YqnTnddLHZgZ7tm+RDTy3jl9AEbXemZ3ltQlPOeMJ+IAAEgMBTTsCxnlnv92n/8BxFi4P6X944JZxKLGjSFk/klnPs9QxbCBGjrI1zGWF8rBJ7Eg79M1LPcHwML7PxTg9+/qylQ/v5kC7rZw6qSOxq25Uk7o2iiKQj0treVDGZCRqVW0808EEDCnLyhRI2bJto+VCKHFOsHOcyHr5+9h9FQcYUcdAARjIrq7BaxyuczSixRfpnOG8l8EUuk5M4qktb8NIgqWf8kXzb7eONFTEQb+Q5wQYQAALPAwHHeoYibIczpf2o8Jm531aiPPL9pYVbT6MGd5zbOKM/N+mj7YH08K/Q6hMOHtKTM74qV9TVowyFsL7c6trtbQkhfSSxRfKjp7QnGhWfjX+4f9Zm0csTxP4+splF5QeU6rpDhYtCbfmNqmRbfqPDTug4r/jma3mtWnvyR2X1MhnzV+Ga0+1tCWF9xa9t0/KOz7lrKFJXMZmhgmRJRShFRVVTXrJV2WRG+SBndhZ+o1BrtdqGg9aavI2SAFvbm8omPDy/8dauzLQPShVNtrU0h3XGOwV6Zv5t16JQym908poKhVKpPFRevGW3MLdFoGcO286lugTEZpRxvSPIB+HdVhd1g5+AABAAAk8zAad6xrKsNV9fgjPCh42NX1RtQHki05ngaJSgjz8XVkSJ/FCKI9az4NjESaNQRnjQ2PgFO3U4Ptlm0R9ZmRwThvL1fWgmSCKd+A81L4F8ZgfpnyHjd5t+WJU8WcI9ACAZGzvjW+7vXXVU2p4/cwj3wamNyWPFgT4ol33Y2PjFW1FNeP/MaDYcfEO4LsVVw5rUPmUYl+g/aWYxDlTWvYcy5tHzBiGS6ISCauuKW8e5ja8PcMPzZ2QTBHqGfFOUry/DpTPDOHR8W/C5bRY97585bDs6zEm+vsAUWRnYBgJAAAg8QwRc6dkjNUOQ3PFI5z7qwS331GsiKPLvgzyqhSc/3prEHzm467NiT24WLAABIAAEgMDjEXgm9Qw5G1WpkQOlizv/fuPjNf5JzkLP5/lwj3w9iR04FwgAASAABNxC4FnVM/TYWV7OJq2Tx7jcwsalkZs/Fuesdc+fgnRZDvwIBIAAEAAC3SLgNj3rVmlwEBAAAkAACAABzxAAPfMMV7AKBIAAEAAC3iUAeuZd3lAaEAACQAAIeIYA6JlnuIJVIAAEgAAQ8C4B0DPv8obSgAAQAAJAwDMEQM88wxWsAgEgAASAgHcJgJ55lzeUBgSAABAAAp4hAHrmGa5gFQgAASAABLxLAPTMu7yhNCAABIAAEPAMAdAzz3AFq0AACAABIOBdAqBn3uUNpQEBIAAEgIBnCICeeYYrWAUCQAAIAAHvEgA98y5vKA0IAAEgAAQ8QwD0zDNcwSoQAAJAAAh4lwDomXd5Q2lAAAgAASDgGQKgZ57hClaBABAAAkDAuwRAz7zLG0oDAkAACAABzxAAPfMMV7AKBIAAEAAC3iUAeuZd3lAaEAACQAAIeIYA6JlnuIJVIAAEgAAQ8C4B0DPv8obSgAAQAAJAwDMEQM88wxWsAgEgAASAgHcJgJ55lzeUBgSAABAAAp4hAHrmGa5gFQgAASAABLxLAPTMu7yhNCAABIAAEPAMAdAzz3AFq0AACAABIOBdAqBn3uUNpQEBIAAEgIBnCICeeYYrWAUCQAAIAAHvEgA98y5vKA0IAAEgAAQ8QwD0zDNcwSoQAAJAAAh4lwDomXd5Q2lAAAgAASDgGQKgZ57h+uxYbW3X7V+Rs+4Hw9NcZaPZ0FiqaLQ8Zh2NZsPxdWmz16udnX9zX3m13tmPz+H+u3XFKz8u17T3QNP0VdkZKaU9UjTZWmOrdv+KnC3HyX2w7XECj4f9vk5e9H6h/D8Pr56b9cxyXXe4Wqm78/CC/zhHtHRoiycy4fEVTWZvNbpFV700fmII7etDhw3P2tNqK9e+g1rZXem9qHEbr9gOcveWfaFtFv0vtQpltyXEfFW+LJyOfLfmymMxbG1v2h5JhSbUcC3rymeXqWnfdDEzMVfR4qDl9pV3cNBTtstoatZ+GDU8JOs7a9e3NqkVtToS3YUVUcE+WTs7HrneLVWpIwOl6Ucf+UT+hLNZkUFBOftcFm00Nf+mVew72e3xwVvv9obp2pY5f6EnVZhYln3yRnW7WOGBPTA5CKvg1e8k9u4XfG9n0pA/xedeffgZTvXsZnnSCBGFP/6MeGxM8rJvteQl4dD2vZ0JQ/4U//lNhz/+QXe2tjcp0mKn5igfSs9dgPR50UEBsYsrlEdPaTVHu0xk9h3kBT2zL9RyaeOMv9JvWmeTbra6/UL50lHiaXsfx48U6JkDPi26ijhJ+CLVLTS/dfnYV77Lz0/rl7PFSXGvF9ZbFVqdFho44kvSJXpsPWM1+XOj0wpPP36zu6NnLR3aghHUyDTN4xfzsDO7TKxP3KiHleb0d+9PDk6r4pUfumDvdolu0LPmzXH0y7LUfepjGmVNVek36bJhA+io5afsL3iyVs/oxU824VnfNpoN+yb5DHqzwmFP2XfQs6JnLMu2X9M/3j0BqWfO+BjNBv01B51vT8zBQU/3Lnfq2RO39GnUsyduFBjoJoGe1LOgP9s8LaPZUBUn4mMURrPhx+KMWVFimqaZEfGzv9Pi2fPezoRAH86rC3wxduUFVnAnjtszoRRFJNsvlOckyMaE0hRFBTLxuTr23tktGTHSMaE0MuIvHjMjd3sTB8p4qjhrsmQITfnQzNgJuWQMjWVZo6n56IfR4QwyJRomm/Gxwj6492t55kyZBB8TECx9I6P85F1bLxhUBRkx0pH+9KAw6axMue4O29quKxhBDXqzAs+hd+8fyA6kxJ+fwed0/Jz/2ivMlP3NvIm2XUmhr0iTznI7Wu6pPx9CBS5WtVn0u8dRAdOr8A8O0ZmubZn9IiUu5IJ+9xtXv/ayeMYxzlTz5riglxMFXq/RbNCVpb8lZQIH0iERsbPXq3GTcXFcH1AUPaGMRGHfQVjPgiTScIb2oZmhE5Nz62xxnpaL8rVzYlGP+IujEwoq7KKS93/Mjw1ihn+lQ3GbDu2WWNRHvj500Nj4BTt1rkbFy1wdfX3oCaV30BJXfvI0qRh38fCUqrZGm2UeMr9hvqH+dr4sfDA1MIAWj078/AT3i30/sixL6plrPrx9fsOeGGqpIyxGs+HIqsTXxqEm+PqgTknZxIU02iz6I6sSJ4hRBJgZJn1ra+ewbtHtX87tHzoxeZmC29/Sod01N35CGIMvhNe/IXqkCg2zVG1nezdMCeqXtqkNfTWamg+/JQoRFzVaWNIDU6eF8uMhYGhubTv6lfIXj5OIA30o+2sBm3ZY599V6aNekH1ovQhcXK0sy97WFGfGSbnBIJG+9Q63ZibQM4cksX/G19l/HgoUOxvwLrDznYg3Ws+VfjwdVUkUIomeHRvRn4s3OmuU7yCJbFFh2ddoogv0odDMsFZtu6Nq0e1dmjhZwgSImIjJaWuPcZEDZ/OM0dR8oSITXbA+qALj0uVXzKxgcmCdjAcXbXTYTYKG218URlOzbmVUiH/8mvPo2NZ2Xdl4OuzVkkYL23JPXTo9Fo89H5oRx6XldU4IzqbZlnvqLfG2UwRziDPsqGAnDFmW1Vdlz5Eh7KJhstlTJUF/frJ4I5pDST0zNavTQoP6pRXfQ9XQ500JDJTNKVYc0yj3fxQf1lccX426897OhMEvxKac0Ol0ujOnm66YXenZ76r0yD7i2CJ5rUZ9uFp58i77uypd0kvyZolCqVQe3F0wbzDFjCnStKOJ8vMhVMDU3AqN9pRaeaCMm7vJbrtcV75HibxJxVcJEf3pV4kpAB92YUWUyC/xk0PKOpVi99ep0X7U0KVcQMN4PFtGMeOWl9Zq1Ee2Z031pcKXn2JZ9lx6JC/h9xtXy/pS9NQyPKBvlcYN/UvyeiKyarq2bUEfKqLAOkBYtuPn/Gl/Y2bubxYMWYfoWtt1JaORdmIBMGyYQlGcKaOpWZUcSo9BkxT5ubwhLqyvOHp16f56xd6vkqIG0WOyNbdM3BUycHrhiTOoF3S/dAnQ2XcQ1rOwucWVCqXyYOmn0xmRX+I6HKq+Vfl+EB08M7dUpW44WPzeaBp3B1mN/6dZLaOYUWvR/Npm0Wv3yqsa1McaFDtTpKH9YnORzDkdFa9u1lqrqNNf66z22JztCmWDEq2dkJbJEvHErUkN8w9KzqtRnzylVm+XH7uODnHWj/Z65oyPoCCHlWedYMEd3e/V3D0qZb1CvuNdWXA/7rowfpcQ+op0WplSq9UeV5TLT6PboDaL/uAssV9AbFqJvK5e/u18WUgfCb6OcKdEpJUeUKpPHJAf+dlWL9O1be/059Y7jWZDTYLIv68k2Xrr03JPvXoYN3QFeuY3IqvsZwT7dJP+lgnpmb8ofuEedKFVb+pyLfAlOawzOfU7u1qRhYbVU32p4Jm5JTXocvvunTD+OuqiZ05IYj0LTirFY/inywiX6wHvEDvfFpZlzb/tWjyIChmXUSRXqmrKccAJr5/ZN2pamfKYRvnDN+nRfpRfaOKHZfI6lWLP+6hDZ1pvYVvbm6qmM36jkwvkam2DfPNMcYBPcuGvqEBn8wy6sx9IRy0pP3RKq22Q76hF9y7k5OBiPDzq0CIb7uyiMLZq86M4DdPnTQn1TVyPtc26oB6RVlqtQpG5f8yS+PeVJFmnd9QLjqZZPFzDl5RXq5SH5V3mEBfYXTC8czBd2peOnFe4XaFU7Cv+OE7sTj27c71JW4ZmeWYeWpBvNVZmUjZPBc/FgW9X3TKhmUuwfubCPyOHEe4AwZ5bpXGDX0BO3t37BzIpyuHyBtlzeBvXB9/Tkb+SVzgWCXyv2mbRV8WJ6Kk2P4a/5Cw16eEvc/fChg1TBg1mhvZF98LoRngmExxdQro+bRZ9RQzN70SLNP3SvmvtMmRdoLuYGRk4KGNnB7oPrYoTMQyDq3T3fl2uyEYbt6jNeCBnAOoOPqh4YUUU9uHIK4RsPt627yA8Fvl8ECTDveiYMqSCuAn43p9l2Y7K1OEvcffm9pYFe4y3t6X+iZ5qdcTtCxWMCsGFLTBl/xUjEqwJuehHez3j3WV744I99pV3hkVAHqsLHoeGDdEBfYQ3mA8assf1ZjBq7ESWjafxjYugU8gqtbY3lU3gwgZtxgPZNBM6hBse7b8gt372D+hwcrS7jjeS1wJZkMM6k1couc2yLH+14t7xD8/h82vIyvAXl4sBZr9+1v0BT2Inm6PP69IFZOCLbAi5jW8X+FtJXIfRGehO90FD9vi/cbcR6Ebq9rYFvenXStBdFdlYki3q7leEC8DkmHExHsjDkFdjvXFxMbT4hru4KNAV/XP+jIH02KUZrw8QT9rBxQAEYw9Pp4zd/TQ5zQpOEcwh5MgnsTtjiCdS8up2z/oZ7+9TFOU7SDIrU44DdNhTIX+lKMrPOrnbX/yCmYuMN5JDB3eAYM/vqsxRf0NyYjQ1nyuMi+hPMzFpH21zkD9pNBvObc5KikbhxFCxZISIGvAOF9/ju5YcZ3jYhbySUXyPvXu/LjtQ0Boq+IXkTW2cckcUnG+z6PdPoof/T+G7FJov0DwSQA8p6owadZZxe1sC0xtNW3gCxXpDjkUX6PjebTVWZvWWvluSNbEv8v/uN66e9BdbfAkXhez0pqP32KKdv6syI/tY69Y1vNlZNe5/+w4SjMVWY2V6L+QaGk3NNQmdGUGdeAb156ZLgVnua4tu/4fJ0yPEQ/2ZoaPFQwdS+Aq3L1QwKh5Vz1iWba5fHRtMDRoZPz+/vOEyKt9VPxL5jWR3OG5F172CyrvAIrBsvSx9gmOQz22+Kl8+ih4YIp25rHDHGc5jxiEQMmtLnxfNDTyXSaf8rdKDhswJfmmbPql/P8EAACAASURBVIvGd1GGDVOGDMrAoXhytLvWM/JaIJvusM7kFUpusyzLX634DixwsYq3RlaG1zMXJO31rPsDnsTOVwCXRU6R5MRKNoTcZln21JIwPhsT1yooGbWreXNc5zVh+z/iAxSHJRtLskXuSIIkaAAzbk5O0f4mfCdKjhkX44E8DF8sFTGuhhbfcBcXBT4GhYt8UNiJvzUXTAhci6zzobNpVnCKYA5xht0ZQ1xnhsgGco+eBb4Yu/CIVqvVHvlkSnA/cez3nIDjsRW1ngsW4ZBR4xUu3ijwz0zXtsz4q23mfSQ9e9CQKeklSexcKmg9r9zzUfLEUCpoWBp27fluu1meFNZXPH1V+SGtTtco/0TycD3T50WTehY0oww3BP+LwzJGs0GVHDpEUvKv/2xb0F+Wec5QMyt06FKNqT5zVB/kOAo/t3e964d0ruPn/Df+W/J2HRdW4tfPXKC7e78OB4ssNemjg7P231Fm08y0vYYLK6JCxDm1XR8V6v7lLaihYHZGbkHXqfPOg8qsl2x6RodycSqM5czppos2De1i22hq1qSG+QXELilVnjijO3l09YyXPahnLMtarutqS7LmjqT9fKVJ1QZ8GTjsRzf6Z3hmdIjFftLZN8mHD1AbzYbT8sKsGHHQACbiC/UtE5oTBVEUrGd5bcJO6QIah7JfEk+ta774flTg21U3/rU65k+Jaw0oPMC77OSs+lA9468FQUH2dSane3Lb6rJwV+vd+yh4QGYnkpUR6JlDkk+oZyR23KLH1jO+tniRqWQ0hb2i5s1T6Jdli+rJOUN3zppPRDYW+6B4nsFx8mvq8qIFsqEDqfDXSzTtXYI3LsbDow4tvh9dXBQ4JFAezwwaQov8EvFCmv2EQOqZs2nW9RziXM8cM8R1Ju+H3KNn/PoZDuz6izoXD63xRhx75MHhjY7KVBwh5PdzWm29c2FZ9kn0DNtsv7Tlnf5U6JfcMhXeeS7DdhuFb9Ae6p/x1zB2b8nwCF95NGnWpIb3jV1emDBiSK6mnTV+l8CEZm1cEjZEgtZOBR88pw8e8eXuj6MGWxfeBZ4Hjjc6RMey7NmsSP/wnKK0sMDFKmzqLwsK1oyk8WIeWVabURiAxfHGdVe7XCHkKXjbQQc50TN8KeKkHns79ntw/IHHfucB8vOwf2ZfqOnatjl/4eIz2JTgirW372wPWgaQohvMy+1oQnfYj0+iZ/aV1+dFO8QiaEKbRe9gYjUbflwSideh7eNLFTEPjzdyE+so+q/pBZ9EoHAlyjwaTE/6LHd2byRyGBQ5q5JXh/2vgjnXnjPKYOqsM6lh5DapZ63tTbvHUeQsRlaGVAhnJPFYCk2whdO7P+AdYsdtFPW33YN20z8ja0tG2B40ZEb2ZewX6e39M36eIcG27UoS90bhSnLMuBgP5GF4SnE9tPiyXE9ulzdOCacSC5q0xRNtS+MCccIWcJIROZDIaVZwCn9P7Bq7M4Y4RkpeyG7WM0TnpuIjMRUcjSZxo6n5l/zo4H7iictQEkFdvXzX+lIcK7dc2vimDxU2t7hapTy0q7Raj1aDDs9k8KK3Uqms35su643y2awBCluuFO4A51eI7tCXpfs02pOn1Ad3psp6C9M9bm9LCOkjiS2SHz2lPdGo+Gz8I/hnKHpwOFPajwqfmfttJVq+3l9auLXzCZu2NmV2IEpX4zIbb+9a0Ad9dTiUWRaFB2W9aRrNS1w0khyLLtBx5/ZFoV28BGKpSR8houiXHS9ZXd6InObpq8rlx5XVXydF+9KR79nyQZytD9l3kIuxaP5t16JQym908poKlDhwqLx4y25hiPX/aVbj/Ea8VOAviv+gwpr1oM2f/SKnZ/aFtnRo10RQvuMzSmrQAnLZUQNJCQ8G3jJ/cfIbRlPzmZ2F3yjUWq224WDholAKL98660e8ouMXllZ0Sm9fEG/W4YZ95Z1hEVgmJ9a7taWbd6LHAbUN8i/eYHAIi1sPD4jNKFPU1aP8EUE+CL+oaV+x37agMFGAT3LJDfQjctR8KD4yJphVW8sTgvuJJ+WjpIa9WxUaa34jn6DhTM8c1pm8QsltUs/QAk9VakR/tJ6/R6muryr+YCLNF2fYEO3vI0uSo8cinZHkff3FFSizZttelD7dzQFPYu/CzTqDBYiTv9im+KFBeXAnmogc5oPwCZz4FpOnSupZa3tTxWSGCpIlFaEkCFVNeclWJQ7ZkeJNsu04r/jma3mtWnvyR2X1MhnzV3Rdk2PGxXggDxPomcNuIhvu7KLoOLdxRn9OktH2QBpnKeMJgZ6c8VU5NyzD+nKra86mWRdzCBYOh9hdMMT5RINfz/m2UtlQp6z9KFoQySAbSG47fZ4aO79kjvidg6n8LQmfdB7ogxLoIydl4ACg0dR8tjg1JgzlJYdExK4+gspCqdUpKOeboih/RjxmSuInx9BdpOB6sN/DxxtNN5TrolEiOE7Hn5UpF/hGKGl1ZXJMGDrCh2aCJNKJ/xD+cSNn4wzjsKa0crnmw8bGL+rM58FTA38/jpaIZ6E8TzyPkCjxNuqkGJo8QDAWnaHD7n/ZeJq/ftralLmiLqFtsjgUy96SkRDB5eu/vYG7nATFkafgiIegg1yNRS4xnXumghnmgCqpOqYbym/ncwcHiJihUbEYo8NRcashP20Myl0OCJa+tklnX23SsqAVbRZ93XvciEK51wkF/F+rctaPJk1h8lhmSCxy4/jwr8Csw68OK2/NMhdiETSBnFgvliXxgzNyUsb6ztxuZ/nZgk5xULHbKFsvvNODQXdRfbskDZGjvbW9qXpZ7BgG3YeNHJOz44ZwjcehD+GwzuQ1S24L9Aznps+RiYeI6OBI2evjGF7PLFcVedMkI/wy8N8ucUgSxUWuKj59w3rJ+4ul71Sg2+juDXgSu4Cb5VflpgW2iWhsTDJ+zINsCLntQs+QZWtu/ZRhXP79pJnF+Il1kjypZw9ObUweixLQfX3oYWPjF29FT7MIxoyz8SA4jGyjw24SNNz+okA+0HSU0cZPpDgtc/15LtYdHJs4aRSaxskHb5xNs4LhSvpnqCudYHfBkH/eY4QI4QoVS2Rv5vbA37sScISvQAAI/MEJYGeLDD/+wYE85c0XiNNTXltB9Zz6Z4Lj4CsQAAJAoJsE7uvk68vKD1ifB0XPevpysaxung6H9SAB0LMehA9FAwEg8NQRaK3Mxn/qBcfW5v+TC4Y/dRWFCtkRAD2zQwI7gAAQAAJAAAh4lwDEG73LG0oDAkAACAABzxAAPfMMV7AKBIAAEAAC3iUAeuZd3lAaEAACQAAIeIYA6JlnuIJVIAAEgAAQ8C4B0DPv8obSgAAQAAJAwDMEQM88wxWsAgEgAASAgHcJgJ55lzeUBgSAABAAAp4h0AN6du9s6YpZOYIXvnimdWAVCAABIAAE/igEnOpZa5NaUYv+BrbbP/+rSB3x37YXN7jd/pMYbKlKHRkoTT/6JDbgXCAABIAAEOgBAk71zP4dgO6q3dOsZ6wmf250WmHny2Lc1WSwAwSAABAAAp4mAHrmacJgHwgAASAABLxBwJWeobeNWT8Bna9avq4qzIhBLyUKCJZOW1J67LqwikZT89EPo8MZ9B4y0TDZjI8V+B135HGkf+bs+JYO7a658RPC0LuFKH/x69/o8SuR+NcXiUIkr72e9d2vnGHrW5TQm40C/cXRCQUVV9B+o9lwPD8Z/11UH5oZnlJ1y2SrCHor23xZ+GBqYAAtHp0oeBMSfsNQJwD0f8j/TcRvg7O+TEg60p8eFCadlSnXoVeTwgcIAAEgAAR6mIArPfMbkVX2s06n051u0iMlaFg9laLDEwu2K5SHtucmDqWGygrxK+zIRlyuK99jfU+E4quEiP4O3uNM6hnLsg6Px3/jOSKt9IBSfeKA/MjP3Auybe9KXh0f+oo0VWst+Vbl+0F08MzcUpW64WDxe6O5d4fjl+ANHJuzXaFsUCr2nUSiiD/4nUz+Qcl5NeqTp9Tq7XKszeTb/G78gtqu0+l+2p891ZeSJFY1mVnj8WwZxYxbXlqrUR/ZnjXVlwpffqrTKvwPBIAAEAACPUbAlZ6Rr+DDb6znHTXkLdWkR/YRz9yP3jTt8EO+npw8QKBn/E/k8fbvLDBsmBL4YuyHZ7jDkfD8jdMzfV50UL+0TW3cTx2VqcNfEr7LnC8Fb+DmkA3E+0k9445s1ZaMooNG5Spa0Mtkq+JE9NQy3uk8mxXJv05aUAR8BQJAAAgAAW8S6K6e3b1flx1IBS5W8ZVrNVam9xJ6J+id6JuzkqIl4Qx6SfYIETXgnSr+FLxB6pmz4wV6ZjQ11ySIAobm8u4gr2f4JzIwSFHUoP7i2T/Yvcu8az2a61fHBlODRsbPzy9vuMz9JtAzo9lw7L1IkV/i+vPoAAxBUFbwC8m8lHYtAb4BASAABICA9wi4Wc9ulieF9RVPX1V+SKvTNco/kTxEz5wd71DPSHdKoGd0KBcaxRHCM6ebLjY/RM+Qi3ldV1uSNXck7ecrTao2sCwr0LOWqtTIPuLY77lAJdazoBlluBT8LxeM9V6XQUlAAAgAASDggIBTPTuXEUZG0nCojYw3murTI/syU7rGG8mz2iz6ihgfh/7Z8JdkKy+g2jg7XqBnLMteWBEV9HLiuqtcG3g9Y1lWnxcd+KKDB9rw+lnAdKGDKMBgbNXmSyl6atkVcxc9M1+Vvx9MjZxbwz+EZ20R7R+eo2gR2ICvQAAIAAEg0MMEnOpZa3lCcD/xpHx5nUqxd6tC045SIaJ96REJhXuU6sO7c+cNppgxRXwAELfj9raEkD6S2CL50VPaE42Kz8Y78M8eNGSP681M+Vhx7hrr7Hh7PWu/uC1FRDFRWRtq1Or68q9nS/h8EPNvuxaFUrZUkfLiLbubWNaVf2Y0NZ/ZWfiNQq3VahsOFi4KpQLfRtmPvH9mNBs0qWH+ovi/H+ecsTOnm66Y2ebDmdJ+VPjM3G8rlXUqxf7Swq34YbWbik8imLAZZY2WHu5RKB4IAAEg8Mck4FzP2puql8WOYShfH3rkmJwdNxAfPl9fFCKJSyu2z9dvs+iPrEyOCUP5+j40EySRTvyHWkC2tb1JkRY7MlCafAxJjsPj7fWMZdnbmuLMOOkIESUKkUx5Xcr8FSV94I81X182JhSVywzjCnXhn7VZ9HXvofx+9FxBiCQ6oaDaGlPk9ezu/QM5A7qslIl6c+kn1nx99NCCrw89bGz8Imugkr2pWD2UBj0T9DV8BQJAAAh4jYBTPfNaDR6voLZdSUzveD78+HhG4CwgAASAABB4bgg8M3pmbFXLvyqtVCjVanXNnty5EdSQWFve/HPTH9AQIAAEgAAQeDwCz4yetV/clhGDHgPw9aGZYdIER3+d5PEQwFlAAAgAASDwHBB4ZvTsOWANTQACQAAIAAHPEQA98xxbsAwEgAAQAALeIwB65j3WUBIQAAJAAAh4jgDomefYgmUgAASAABDwHgHQM++xhpKAABAAAkDAcwRAzzzHFiwDASAABICA9wiAnnmPNZQEBIAAEAACniMAeuY5tmAZCAABIAAEvEcA9Mx7rKEkIAAEgAAQ8BwB0DPPsQXLQAAIAAEg4D0CoGfeYw0lAQEgAASAgOcIgJ55ji1YBgJAAAgAAe8RAD3zHmsoCQgAASAABDxHAPTMc2zBMhAAAkAACHiPAOiZ91hDSUAACAABIOA5AqBnnmMLloEAEAACQMB7BEDPvMcaSgICQAAIAAHPEQA98xxbsAwEgAAQAALeIwB65j3WUBIQAAJAAAh4jgDomefYgmUgAASAABDwHgHQM++xhpKAABAAAkDAcwRAzzzHFiwDASAABICA9wiAnnmPNZQEBIAAEAACniMAeuY5tmAZCAABIAAEvEcA9Mx7rKEkIAAEgAAQ8BwB0DPPsQXLQAAIAAEg4D0CoGfeYw0lAQEgAASAgOcIgJ55ji1YBgJAAAgAAe8RAD3zHmsoCQgAASAABDxHAPTMc2zBMhAAAkAACHiPAOiZ91hDSUAACAABIOA5AqBnj8+2tV23f0XOuh8Mj2/iuTvTaDY0bs7N3qF77lr2B21Qx3lFUVbBd78+281/PlrxbPeBV2rfA3rW0qEtnsiEx1c0mb3SRDcVYrmuO1yt1N2xmWtld6X3osZtvGLb9cRbLVWpIwOl6Uef1NAdZWFqtHjoQIryF08uanpSc90+v6VDWzCCClysYlm2/eK2lFBGsqkHtM1oatZ+GDU8JOu71m5X/Q9woP0Yfmijf1elj3pB9uGZhx74RAe4d05obVIranVXiOnF7a3wwgAzmprPbcl4I5IJ9KGCAmJXnHwiwn+Qk53q2c3ypBEiCn/8GfHYmOSl36nJIfLYgFrbmxRpsVNzlG6x5rAatxry36Zp9yrNvZ0JQ/4U//lNW4Ge0DNWkz83Oq3wtK2Ux9m6Vfl+MDUioXCfRntKrWy4/Dg2Hu8cUs8sVxV/nxqfslf/eKae8KyzxUlxrxfWtzyhmefqdPsx/NDmuV0JHJbo3jlBnRYaOOJLTbutKE+0wtMD7EFD9rhXxJNXyo+e0mqOack7aVvDYKsrAad61rw5jn5ZlrpPrVarD1eWl2TFRvSnRy9S3TJ1NfCUfWu/ot67LB4r8TOpZ+7g+aAhc/yL0lStO2w9og1Szx7xVDjc4wSeWj1zb8u9o2furbO9NX1edOCgjJ0d9r/AHqcEXOlZ0J9t7ojR1NwwJyz0v9I2tbH3zm5JGy0O9KF8aCZyUsbXJ5uxeeOp4qzJkiE02j92Qu4ea6jHfmebRb97HBUwvYplWaPZcGRV4mvjxENoyteHDomITdmktfltd5t+WJUcE0ZTFOXPiCNeTVxS52qxymhq1qRGjpiW9YWm2EUk8Nau9AlhyIvvz4gnzC384TpHx76qJLZ7OxMCfTiHNfDF2JUXWOyfBUmk4QztQzNDJybn1tl8kZaL8rVzYseE0oH+4uiEggq7qGSbRX9kVeIEMe3rQzPDpG9tRVFB/kayzaLfN6mzPGuxIf83EXuHD7X8uyo9YgBX1UH9xTOOoXZ0nFesnSMb6U9T/uJRb+V8o+N6rf1CeU6CbEwoghzIxOd2jQ46Y0WSMd9Q71iMWupDM+Kp8bHBXLyR9F/vnd2SESNFNHwo30ES2aLCsq8zZkWhUTQoTDprLeH6t+j2Lk2cLGECREzE5LS1x7geJy1Q/uIxM3K3d4ZRHXbchRVRwT5ZeDowmg26svS3pEzgQDTGZq9X87HuX8szZ8ok4QxqfkCw9I2M8pN3ycahbbLox6t8S4d2Syy6NHx96KCx8Qt26vB9IWm5O43ia9ZyT70lPhYPY/ux56yv7ccwbxBv/NZQiC/hQH/xhDfLNO1oQEb0p5nxqPKCGjqbB1wjva0pzoyTcigk0rfeKdW0s+6dE9Rpodzop6iAobm1LlvBsqxBVZARIx3pT6OhmCm394RcD7AHDZn85YbLHbpUgye3H4vRIKdpmhkRP/s7rUNn4LqqMCMG4Q0Ilk5bUnqsczq6sCKKb0Xof6WtvyfoK/jqgEB39Yxl2VNLwoJfSM5rY83/0R76XlGrUR+vKV05gQ4KytnXwbZ0aD8fQgVMza2wxrgOlKEpw+FOcuzi7X6v5u5RKesV8h3vyoL7ieOr0RTWZtEfnCWmgmRzC+VKpVLxfebrr3R3serOg0oXevbgX8rtCiXyO/dkvx1AMfNqbpkcV5UEdm9nwuAXYlNO6HQ63ZnTTVfMnJ6FzS2uVCiVB0s/nc6I/BLXXbWedKvy/SA6eGZuqUrdcLD4vdE0M6aIDICg4f5dQugr0mllSq1We1xRLj+NBIbXM5Zlb/yCytLpdD/tz57qS0kSq9As3A3LyMjfpLOrtLiqF5tZ9qbiIzElkqTlVynrq4pXTGb8g5ILrYv8v6vSI/uIY4vktRr14WqlYDZ3yIrE0tquKxtPU4Pj390ur1MpdqxPivZzoGe/q9IlvSTTypTHNMofvkmP9qP8QhM/LEOn7HkfdfrM/aj5re1NVdMZv9HJBXK1tkG+eaY4wMdWT0kvyZslCqVSeXB3wbzBFEbqcIyxLEvq2eUNcWF9xdGrS/fXK/Z+lRQ1iB6TrcGTy4UVUSK/xE8OKetUit1fp0b7UXgyItv45JVvs+i1e+VVDepjDYqdKdLQfrH4vgFb7n6j+Frhe4XwJeXVKuVhedex57yv7ccwbxBtNKyeStHhM3NLatDFuG0vmn/x8JB9iQo6uLtg4QgOO8s6ngcweadIG1ZP9aWCrUXUqRTfvROG7zncOyeo00L9RmSV/YyundNNetetMB7PllHMuOWltRr1ke1ZU32p8OWnSCwPHWCmO/oLp61lnVXvelss6h+bo0WDWZ83JTBQNqdYcUyj3P9RfFhfbmYjjXPMEwu2K5SHtucmDqWGygrxRHFhRRRNp21sRJbP/Au1Aj4PJfAQPfvkt+bm5ubrV3RHdqRP9aWGxJbxN7bYdEdl6oj/Rs7K3fsHMikqvGtA0uFO+7GLfTWWZVvuqVcPo/zn1aCb4p+ypX3pV7/hPB7yZp9vldHUbOj8kP3tWs/401mWPZsVie/gHFaVPNI+ViOoUsfP+dN60TFlSIz1edFB/ZAviz8dlanDXxIuqhs2RAf0ic/F+tdZEqlneJ+xVVsyig4alauwLgV1x7K9EcOGKaL+qJu4z+1diwdR4UvQdWt/cOdBwv95VuQPv6syI/sy0/ZyXhQZbyT5kKUYzYaaBBE9pqjRgiy1GQ/kDKBGZ6DKPGjIHv83SbLVoUSSf3vbgt70ayXolpW0wLLsrdK4wS84HXiknmH7+K4F1/zCiqiglzlnl5Q9o6lZlRyKx0PXNtpyIh6v8qQ14+1tqX+ip5aizKJHbRRvh2SLnG9i7Lnoa/sxzBs0mg1VcSLXbSex8yfiDX4eIMmjHiSQ4iL8w3PwSCaPdOOcwLLsQ+ON/OBps+ir4kT0VNu0djYrEt+g8w10NjOQIwcffLM8NbKPeNIONGW1GiszKUr8OZdI09quKxlNBb5dRU5T9swtNejmEt/b2dvnqwQbzgi40jPe20Ub/uKYztBcxwX5mjQU6wgQMaPFDP0ymqlRNk5hHApNxKR9tI3LA3S408XYbbPoK2J8gmMqbpnY5s1xQX+2TfeCCxi3597OJD4GGFFwnm+kaz27rirMjJOODWH8GfGYUM6/dFhV3iDS14flg7QakVMYUXDeaGquSejMpemEOKi/ePYPpD3WfFW+fBQ9MEQ6c1nhjjOcHggmOKPZcOy9SJFf4npr47ppWWjEWh9yhRxz9osuaTILp9QuVWRZh6zIY5o3Twn6czznlbLIzeXzG8kuE1Tp1JIwftbApwQlo5TI5s1xncBs/0d8gCYFgYXfVZmj/obWCJ11HD8d3G9cLetNR+/h4qtWU5mRfbju4A/DjbqwIirklYzirrEdQdGPUXm2Rbf/w+TpEeKh/szQ0Sjv1KFIP7RRPHmSLZ49ybHnrK/txzBv8O79uuxAzrHmd7rAjkTU0TxAqpQA6d37dbmiLkXw8N04J3RHz3jOuNW2oWbdCn4hmb8TxZJsP7PZN/Pe2S1v0/SIZSq8XIJGXV+BYQpfcTxee+Z4DsEOIg+HPx42HkrAlZ7RL8vSD6mPntJinx3bwrOP7/iMDTVqnU7XWJhAeh6t55V7PkqeGEoFDUvD4Sx0sXXd6Xrs7pvkQ08tu2JmDRvQRMnnEwouYFwZy3Udylexfn66bJuwXOiZ5dLGN31Q7l+FRnv6rLpynoSfWO2rSuKznwsEVbrzoDLrJZue0aFcxAPFC6whShT36/oxmg2n5YVZMeKgAUzEF2ocGCHTo1uq0B1f7Peck4r17KGWBfMvPsvZHCc4mKyga1b4SMFtRzf1jLwLxreu2Clv3jyFflm2qB4z4/49dw0VJajng4ZMSS9JYmfOi2CMkdPNI+mZPi/6oXr2qJW3LuuG+QXELilVnjijO3l09YyXHevZQxvF947rseesr+3HMG8Qz61MGlr4IT/OsLuYBwQTMY/07n3kiI8kiuCPdOOc0B094znjVgfNKCMHHDnd8ShcDDA0b7TriifSwdICPp8Wj7qo9Sjmz38ar3C3rdgs6BmP110brvSMlBO+PNO1bbNf5K5GfKtLzr/4sPZLW97pT4V+aXOY0NNInTu7OXZR4J4IZAkuYL4+Djdc6Nn/fp/K/NUW+ruaE0XqmYv6d1Sm4gAXX6KgSrye4XgjzhnhD3axYTQbflwSGdQvrfhel1nbfFX+fjA1cm6NLUHGGsl8qGXBHITrE9Anfg3fIdZ4I14osj+Yr2p3WKGs4t4MHxZ+Qj170ICil7w1viYP1TN8JD/GSD1rMwoj4TjeiH1KfkrFFvjJ10XRzvTMWeWxYA94ByVAsSyLB6dD/4yfZ8nSyUbx+12PPWd9bT+GeYNtFv3+SbTfaJQ9QX4Ew4OvoYt5wBnS1vam3eMoUmv5I907J5zLsHn/uC3OWmENVNBkCJRsu/022Rd85VmW/SU/mundJZcKxxuZeV0uXoFBHO0kY7ymejTpTbGuJZP2BSfCV2cEHlnPWu6pPx9C+UuzNtertVrtqZIk7J+1tusOfVm6T6M9eUp9cGeqrDda+nK4s5tjF80Co1CiQUaZ4liDoiI3MWKAG/JBOn7On0rRo5KL92m0Wq32wCIuXO6wqiQ17KyEzS2uVikP7Sqt1nP5IPxTAaSemX/btSiU8hudvKYC5S8cKi/esrszG6/T6N3a0s07lUdPabUN8i/eYLCs8hee0WzQpIb5i+L/fpy7vcNJKN2xzBvpLIrLB/Edn1EkR6krf5/EBPgk4wndwcGdpzlj1fk7+r/NopcniP19ZDOLyg8o1XWHCheFOs4HIe97nElCa3tTxWSGCpIlFaEEBFVNeclWJV6yFdSTn1iddRw5HVzeOCW4n3j6qnL5cWX110nR92793gAACixJREFUvnTke7Z8ED4NEgv/Y/tnziqP15D8RfEfVFhzf7T5/B3hozaKJ+9Cz3Duj8O+th/DvEEU7D2cKevN5YPUqRR7tyoaLV1usKwLnJxb7GweIO8ksHHyFqGlKjWiPx05r3CPUl1fVfzBRNpZPgi/po4TfXHMpptzQmt5QnA/8aR8lG20d6sCZ2mSw48fPLjV0n5U+MzcbytRTtD+0sKtXZ/+fOgA6ziHQj5hC8pPnOEu1Z8uNxtNzb/kRwf3E09chvLF6urlu9aX8guHPHbj8exoX3pEAgJyeHcun+Vkj5E/BTZcEHhkPUMB5c68fJxGP1qaUfgra7qhXBdtTeqlKNEw2axMeaPF8c5u6hnLspZflZsWxI4KR4ngI2fGSvu5Qc+MpuYLFZk4U9zXhw4VS6QzizXtjqtKgjOams8Wp8aEofT6kIjY1Udc6RnKbUH5+lwePDNMOvEfatIay7IXy5Lwowj4sYf11sR0foLDwRkyAC/qzT1S9lDLvBGyRJzDjZ7M65qv7/BgfKIzVqRZtG19rGKyBD0C4UMzkrGxM75FWf/knCsoxZmeIWstuv3LE6cMQ9ZEIZJJ1t5x4Z85HHiC6cBoNpzbkpEQweXrv72B00jBYU+oZy4qb7qh/HY+NxgCRMzQqNhF1iReARZ+nnXWKJ48yRb7fDjWjQ9w1tf2Y5g3iDf43HEfmokanbOn1ameOZsHXCPFI2qOTDxERAdHyl4fxzySnnVzTmhtb6peFjuGQU9HjByTs+OGq1Z05utzT1MMGxuPu4Yn46wv+Bsmw4Yp5HVKUdSgN1EGAIq7WPP1+Ueb+CUY3jhrXaLG+fqiEElcWjGZr0/eaZGnwLYzAk71zNkJPbXfcmnjzBeZuD3E35vqqapAuUAACDwxAbysSIYfH9UkzAmPSuy5P/7p1bM2i179XfFOuUKtRg+6fTpdHDgoY8eN575HoIFA4LklcF8nX1+G4tLHNEr0tJ8vPfyrrg/wu2w6zAku8cCP7NOrZy0d2vIE2WgxF3caN8f2Jy2g34AAEHgWCbRWZk+Tcn8MaNjY+Pn/tAV+u9McmBO6Q+mPfMzTq2d/5F6BtgMBIAAEgMCjEgA9e1RicDwQAAJAAAg8jQRAz57GXoE6AQEgAASAwKMSAD17VGJwPBAAAkAACDyNBEDPnsZegToBASAABIDAoxIAPXtUYnA8EAACQAAIPI0EQM+exl6BOgEBIAAEgMCjEgA9e1RicDwQAAJAAAg8jQQeQc86ziuKsgq+s77U2BNNuXGgMPsfCsH7Qj1RENgEAkAACACB54+AUz1rbVIranXkm0oEfzu1Oyzsjbg4q3FBGP5jbi0d2uKJTHh8RY9oW0tV6shAafpRFzWFn4AAEAACQOCpI+BUzx76zvLuNMXeiIuzeD1rbW9SpMVOzVGSauriRDf/pMmfG51W2PWdEW4uAswBASAABICAuwk8jXrm7jaCPSAABIAAEHj+CbjSM/6lPvgNqr+r0iP608x460vO/MVjZuRu73xF5b2zW9JGi/nX/Hx9shmTU6eFCoyQRNss+uP5yehNVwPpYWPj35LSON5IviDNaDYcWZU4OZL7G6YhYxKXby1eOyd2TCjtN5AZJcsiX75nUBVkxEhH+tODwqSzMuU667tlWu6pt8THTgjj3s41dGJybp0eV6PNoj+yKnGCGL3SjBkmfWsrao8grIpfJTXSnxa8Nuze2S0ZMdIxoXSgD3qjGEmDbCNsAwEgAASAgHcIuNIzvxFZZT+jN66ebtLfMqGJPrKPWPYlenHwwd0FC0dQzJgijfXt7Ob/aA99r6jVoBe7rJxA41ctsyyrTgsVGOFbZTQ161ZGhfSRvPFJabVKWbUjd24E9y52Us/wtv/E3ANKtbq+PG+a2NeHjlpUuF2hrN9XiOvQaEFWjcezZRQzbnlprUZ9ZHvWVF8qfPkp/q2S4UtQtQ/LSz+dzoj8EvGrmY3fJYS+Ip1WZn1rsKJcfhrJcBc9u6n4SEyJJGn5Vcr6quIVkxn/oGT8Ur7fVemSXpI3S9Drpw/uLiBfLMu3ETaAABAAAkDAawRc6ZngVXtdJnqWvVUaN/iF2JUXhFXtqEwd8d/cfhfrZ63GykyKCl+kumXiLPDrZ/Z6xr98/X7j6tdeYV7fx51j2DAl6OXE9TfZNou+Kk5ETy3jU0j4NyAL3uTb8XP+tF50TJkBvZd2Q3RAn/jcq12aQDbTsGGKqD/Rxtu7Fg+iwpcgmSQPY53T6GIavgABIAAEgIDHCDy+nv2uyhz1N2mqFlWt44J8TRqK6QWImNFihn5Z9uEZtN+Fnt1vXC3rTUfv4SKTLMt2R89M17bMfpF6reQ6BtIuTxr8Quya8+zd+3XZgXxok9sIfiF5Uxsr0LNWY2V6Lyqi4DzLsuar8uWj6IEh0pnLCnecQQpHCpXR1FyTICJFvc2ir4jx8YsuaTIL9Yykge3Av0AACAABIOBNAo+vZw8aMiW9JIlatqVDWzCC8h2fsaFGrdPpGgsThr/kKT0z3t624M82Pfvf71Oxj4j1LGhGGQqPdn5wmFSgZ3ceVGa9xOkZilKaDaflhVkx4qABTMQXahxWHfUCqv8j6RlPw5udB2UBASAABIAAT8Cpnp3LCOOXwfDRgggbP4Obrm0jfSbkqVj1gGVZeyN8wW3GA5kUxcyr4ZPyu+OfOdMzq+dE+4fnKFr4ErgN13qGDzKaDT8uiQzql1Z8r4vjpc9DAck1yJezfqzxxqFLNaQbh3/haXBHwn9AAAgAASDgXQJO9ay1PCG4n3hSvrxOpdi7VaFp7zLRsyzLz+At99SfD6H8pVmb69VarfZUSRLvn9kbIVt3eeOUsH7MxGXFe5RqjUr+xRuMfX4juZaG3Ckn/hnLss2HM6X9qPCZud9WKutUiv2lhTj10YWe3a0t3bxTefSUVtuASsf63UW2rfkgvuMziuRK5cHSv09iAnyScS5Jl8MIGm0WvWJuWMiQjJIbZFthGwgAASAABDxLwLmetTdVL4sdw1C+PvTIMTk7bjjVMyQzp4qzJlvz+CnKnxGPlmbgJMBWOyNka4ym5jOlOXNkKNHf14cOjpTFvStvMqPkjt3jKJwDQm671jOU34Hy9VE1fH3QAwCLqtGSmAs9u1iWFBNGUxTlQzORkzLWH0PHC4QK5+uPEKGk/FFv5Xyj4xb8BIfx6t5m0R+cJQY9IzsatoEAEAACXiDgVM+8UDYUAQSAABAAAkDAXQRAz9xFEuwAASAABIBATxIAPetJ+lA2EAACQAAIuIsA6Jm7SIIdIAAEgAAQ6EkCoGc9SR/KBgJAAAgAAXcRAD1zF0mwAwSAABAAAj1JAPSsJ+lD2UAACAABIOAuAqBn7iIJdoAAEAACQKAnCYCe9SR9KBsIAAEgAATcRQD0zF0kwQ4QAAJAAAj0JAHQs56kD2UDASAABICAuwiAnrmLJNgBAkAACACBniRw/Pjx/w93bwFrqV5ORgAAAABJRU5ErkJggg==)"
      ]
    },
    {
      "cell_type": "code",
      "metadata": {
        "id": "GNtpBpZh3uZ9"
      },
      "source": [
        "x = torch.Tensor(random.rand(256, 3, 32,32))"
      ],
      "execution_count": null,
      "outputs": []
    },
    {
      "cell_type": "code",
      "metadata": {
        "id": "12RDy5-wBTtM",
        "colab": {
          "base_uri": "https://localhost:8080/"
        },
        "outputId": "3a43667a-84b3-43e7-b94b-457bf8ee7dc7"
      },
      "source": [
        "test_Vit = ViT()\n",
        "y = test_Vit(x)\n",
        "y.shape"
      ],
      "execution_count": null,
      "outputs": [
        {
          "output_type": "execute_result",
          "data": {
            "text/plain": [
              "torch.Size([256, 100])"
            ]
          },
          "metadata": {},
          "execution_count": 27
        }
      ]
    },
    {
      "cell_type": "markdown",
      "metadata": {
        "id": "GzlAuzDpDqnQ"
      },
      "source": [
        "# Training"
      ]
    },
    {
      "cell_type": "code",
      "metadata": {
        "id": "m7iMijxFDf22"
      },
      "source": [
        "!pip install wandb"
      ],
      "execution_count": null,
      "outputs": []
    },
    {
      "cell_type": "code",
      "metadata": {
        "id": "_0On1VPZEDYV"
      },
      "source": [
        "import wandb\n",
        "import torch.optim as optim\n",
        "from sklearn.metrics import accuracy_score\n",
        "from tqdm import tqdm"
      ],
      "execution_count": null,
      "outputs": []
    },
    {
      "cell_type": "code",
      "metadata": {
        "colab": {
          "base_uri": "https://localhost:8080/"
        },
        "id": "Txr-4HPuEomA",
        "outputId": "2653fc5d-bedc-44fb-9bdf-eb5c4ccc5b64"
      },
      "source": [
        "device = torch.device(\"cuda:0\" if torch.cuda.is_available() else \"cpu\")\n",
        "device"
      ],
      "execution_count": null,
      "outputs": [
        {
          "output_type": "execute_result",
          "data": {
            "text/plain": [
              "device(type='cuda', index=0)"
            ]
          },
          "metadata": {},
          "execution_count": 30
        }
      ]
    },
    {
      "cell_type": "code",
      "metadata": {
        "colab": {
          "base_uri": "https://localhost:8080/",
          "height": 69
        },
        "id": "cx9QiQ4uGk5S",
        "outputId": "1ccf6e56-74bc-40f8-c13d-acba53e898ce"
      },
      "source": [
        "wandb.login()"
      ],
      "execution_count": null,
      "outputs": [
        {
          "output_type": "display_data",
          "data": {
            "application/javascript": [
              "\n",
              "        window._wandbApiKey = new Promise((resolve, reject) => {\n",
              "            function loadScript(url) {\n",
              "            return new Promise(function(resolve, reject) {\n",
              "                let newScript = document.createElement(\"script\");\n",
              "                newScript.onerror = reject;\n",
              "                newScript.onload = resolve;\n",
              "                document.body.appendChild(newScript);\n",
              "                newScript.src = url;\n",
              "            });\n",
              "            }\n",
              "            loadScript(\"https://cdn.jsdelivr.net/npm/postmate/build/postmate.min.js\").then(() => {\n",
              "            const iframe = document.createElement('iframe')\n",
              "            iframe.style.cssText = \"width:0;height:0;border:none\"\n",
              "            document.body.appendChild(iframe)\n",
              "            const handshake = new Postmate({\n",
              "                container: iframe,\n",
              "                url: 'https://wandb.ai/authorize'\n",
              "            });\n",
              "            const timeout = setTimeout(() => reject(\"Couldn't auto authenticate\"), 5000)\n",
              "            handshake.then(function(child) {\n",
              "                child.on('authorize', data => {\n",
              "                    clearTimeout(timeout)\n",
              "                    resolve(data)\n",
              "                });\n",
              "            });\n",
              "            })\n",
              "        });\n",
              "    "
            ],
            "text/plain": [
              "<IPython.core.display.Javascript object>"
            ]
          },
          "metadata": {}
        },
        {
          "output_type": "stream",
          "name": "stderr",
          "text": [
            "\u001b[34m\u001b[1mwandb\u001b[0m: Appending key for api.wandb.ai to your netrc file: /root/.netrc\n"
          ]
        },
        {
          "output_type": "execute_result",
          "data": {
            "text/plain": [
              "True"
            ]
          },
          "metadata": {},
          "execution_count": 31
        }
      ]
    },
    {
      "cell_type": "code",
      "metadata": {
        "id": "uymwJcfTEx3H"
      },
      "source": [
        "model = ViT().to(device)\n",
        "optimizer = optim.Adam(params= model.parameters(), lr = LR, weight_decay=0.1)\n",
        "criterion = nn.CrossEntropyLoss()\n",
        "EPOCHS = 400\n"
      ],
      "execution_count": null,
      "outputs": []
    },
    {
      "cell_type": "code",
      "metadata": {
        "id": "_LSxz5LxRHS2"
      },
      "source": [
        "def eval(model, loader):\n",
        "  model.eval()\n",
        "  loss = []\n",
        "  acc = []\n",
        "  with torch.no_grad():\n",
        "    for x, y in loader:\n",
        "      y_pred = model(x.to(device))\n",
        "      l = criterion(y_pred, y.to(device))\n",
        "      a = accuracy_score(y.cpu(), y_pred.cpu().argmax(dim=1))\n",
        "      loss.append(l.item())\n",
        "      acc.append(a.item())\n",
        "  return sum(loss)/len(loss), sum(acc)/len(acc)"
      ],
      "execution_count": null,
      "outputs": []
    },
    {
      "cell_type": "code",
      "metadata": {
        "id": "7c4J3rOfLUu_"
      },
      "source": [
        "def train(model, train_loader, val_loader):\n",
        "  wandb.init(project=\"vision-transformer\")\n",
        "  STEPS = 0\n",
        "  for EPOCH in tqdm(range(EPOCHS)):\n",
        "    loss = []\n",
        "    acc = []\n",
        "    for x, y in train_loader:\n",
        "      x = x.to(device)\n",
        "      y = y.to(device)\n",
        "      y_pred = model(x)\n",
        "      \n",
        "      # compute the loss and backpropagate\n",
        "      l = criterion(y_pred, y)\n",
        "      optimizer.zero_grad()\n",
        "      l.backward()\n",
        "      optimizer.step()\n",
        "\n",
        "      a = accuracy_score(y.cpu(), y_pred.cpu().argmax(dim=1))\n",
        "      wandb.log({\"Step Training Accuracy\": a.item(), \"Step Training Loss\": l.item()})\n",
        "      \n",
        "      loss.append(l.item())\n",
        "      acc.append(a.item())\n",
        "      STEPS += 1\n",
        "\n",
        "    avg_loss = sum(loss)/len(loss)\n",
        "    avg_acc = sum(acc)/len(acc)\n",
        "    val_loss, val_acc = eval(model, val_loader)\n",
        "    wandb.log({\"Training Accuracy\": avg_acc, \"Training Loss\": avg_loss, \"Validation Accuracy\":val_acc, \"Validation Loss\":val_loss})\n",
        "    print(f\"EPOCH :{EPOCH}/{EPOCHS} | Train_acc: {avg_acc:.4f} | Train_loss: {avg_loss:.4f} | Val_loss: {val_loss:.4f} | Val_acc: {val_acc:.4f}\")"
      ],
      "execution_count": null,
      "outputs": []
    },
    {
      "cell_type": "code",
      "metadata": {
        "colab": {
          "base_uri": "https://localhost:8080/",
          "height": 346
        },
        "id": "8U29Pg0oL1v4",
        "outputId": "681f91b9-3d09-4647-d915-99ff1bfe82e5"
      },
      "source": [
        "train(model = model,train_loader= trainloader,val_loader= validloader)"
      ],
      "execution_count": null,
      "outputs": [
        {
          "output_type": "stream",
          "name": "stderr",
          "text": [
            "\r 51%|█████▏    | 205/400 [47:09<44:38, 13.74s/it]"
          ]
        },
        {
          "output_type": "stream",
          "name": "stdout",
          "text": [
            "EPOCH :204/400 | Train_acc: 0.1147 | Train_loss: 3.7115 | Val_loss: 3.9027 | Val_acc: 0.0954\n"
          ]
        },
        {
          "output_type": "stream",
          "name": "stderr",
          "text": [
            "\r 51%|█████▏    | 205/400 [47:13<44:54, 13.82s/it]\n"
          ]
        },
        {
          "output_type": "error",
          "ename": "KeyboardInterrupt",
          "evalue": "ignored",
          "traceback": [
            "\u001b[0;31m---------------------------------------------------------------------------\u001b[0m",
            "\u001b[0;31mKeyboardInterrupt\u001b[0m                         Traceback (most recent call last)",
            "\u001b[0;32m<ipython-input-35-751ccc1315f1>\u001b[0m in \u001b[0;36m<module>\u001b[0;34m()\u001b[0m\n\u001b[0;32m----> 1\u001b[0;31m \u001b[0mtrain\u001b[0m\u001b[0;34m(\u001b[0m\u001b[0mmodel\u001b[0m \u001b[0;34m=\u001b[0m \u001b[0mmodel\u001b[0m\u001b[0;34m,\u001b[0m\u001b[0mtrain_loader\u001b[0m\u001b[0;34m=\u001b[0m \u001b[0mtrainloader\u001b[0m\u001b[0;34m,\u001b[0m\u001b[0mval_loader\u001b[0m\u001b[0;34m=\u001b[0m \u001b[0mvalidloader\u001b[0m\u001b[0;34m)\u001b[0m\u001b[0;34m\u001b[0m\u001b[0;34m\u001b[0m\u001b[0m\n\u001b[0m",
            "\u001b[0;32m<ipython-input-34-e0766e3a304b>\u001b[0m in \u001b[0;36mtrain\u001b[0;34m(model, train_loader, val_loader)\u001b[0m\n\u001b[1;32m     13\u001b[0m       \u001b[0ml\u001b[0m \u001b[0;34m=\u001b[0m \u001b[0mcriterion\u001b[0m\u001b[0;34m(\u001b[0m\u001b[0my_pred\u001b[0m\u001b[0;34m,\u001b[0m \u001b[0my\u001b[0m\u001b[0;34m)\u001b[0m\u001b[0;34m\u001b[0m\u001b[0;34m\u001b[0m\u001b[0m\n\u001b[1;32m     14\u001b[0m       \u001b[0moptimizer\u001b[0m\u001b[0;34m.\u001b[0m\u001b[0mzero_grad\u001b[0m\u001b[0;34m(\u001b[0m\u001b[0;34m)\u001b[0m\u001b[0;34m\u001b[0m\u001b[0;34m\u001b[0m\u001b[0m\n\u001b[0;32m---> 15\u001b[0;31m       \u001b[0ml\u001b[0m\u001b[0;34m.\u001b[0m\u001b[0mbackward\u001b[0m\u001b[0;34m(\u001b[0m\u001b[0;34m)\u001b[0m\u001b[0;34m\u001b[0m\u001b[0;34m\u001b[0m\u001b[0m\n\u001b[0m\u001b[1;32m     16\u001b[0m       \u001b[0moptimizer\u001b[0m\u001b[0;34m.\u001b[0m\u001b[0mstep\u001b[0m\u001b[0;34m(\u001b[0m\u001b[0;34m)\u001b[0m\u001b[0;34m\u001b[0m\u001b[0;34m\u001b[0m\u001b[0m\n\u001b[1;32m     17\u001b[0m \u001b[0;34m\u001b[0m\u001b[0m\n",
            "\u001b[0;32m/usr/local/lib/python3.7/dist-packages/torch/_tensor.py\u001b[0m in \u001b[0;36mbackward\u001b[0;34m(self, gradient, retain_graph, create_graph, inputs)\u001b[0m\n\u001b[1;32m    305\u001b[0m                 \u001b[0mcreate_graph\u001b[0m\u001b[0;34m=\u001b[0m\u001b[0mcreate_graph\u001b[0m\u001b[0;34m,\u001b[0m\u001b[0;34m\u001b[0m\u001b[0;34m\u001b[0m\u001b[0m\n\u001b[1;32m    306\u001b[0m                 inputs=inputs)\n\u001b[0;32m--> 307\u001b[0;31m         \u001b[0mtorch\u001b[0m\u001b[0;34m.\u001b[0m\u001b[0mautograd\u001b[0m\u001b[0;34m.\u001b[0m\u001b[0mbackward\u001b[0m\u001b[0;34m(\u001b[0m\u001b[0mself\u001b[0m\u001b[0;34m,\u001b[0m \u001b[0mgradient\u001b[0m\u001b[0;34m,\u001b[0m \u001b[0mretain_graph\u001b[0m\u001b[0;34m,\u001b[0m \u001b[0mcreate_graph\u001b[0m\u001b[0;34m,\u001b[0m \u001b[0minputs\u001b[0m\u001b[0;34m=\u001b[0m\u001b[0minputs\u001b[0m\u001b[0;34m)\u001b[0m\u001b[0;34m\u001b[0m\u001b[0;34m\u001b[0m\u001b[0m\n\u001b[0m\u001b[1;32m    308\u001b[0m \u001b[0;34m\u001b[0m\u001b[0m\n\u001b[1;32m    309\u001b[0m     \u001b[0;32mdef\u001b[0m \u001b[0mregister_hook\u001b[0m\u001b[0;34m(\u001b[0m\u001b[0mself\u001b[0m\u001b[0;34m,\u001b[0m \u001b[0mhook\u001b[0m\u001b[0;34m)\u001b[0m\u001b[0;34m:\u001b[0m\u001b[0;34m\u001b[0m\u001b[0;34m\u001b[0m\u001b[0m\n",
            "\u001b[0;32m/usr/local/lib/python3.7/dist-packages/torch/autograd/__init__.py\u001b[0m in \u001b[0;36mbackward\u001b[0;34m(tensors, grad_tensors, retain_graph, create_graph, grad_variables, inputs)\u001b[0m\n\u001b[1;32m    154\u001b[0m     Variable._execution_engine.run_backward(\n\u001b[1;32m    155\u001b[0m         \u001b[0mtensors\u001b[0m\u001b[0;34m,\u001b[0m \u001b[0mgrad_tensors_\u001b[0m\u001b[0;34m,\u001b[0m \u001b[0mretain_graph\u001b[0m\u001b[0;34m,\u001b[0m \u001b[0mcreate_graph\u001b[0m\u001b[0;34m,\u001b[0m \u001b[0minputs\u001b[0m\u001b[0;34m,\u001b[0m\u001b[0;34m\u001b[0m\u001b[0;34m\u001b[0m\u001b[0m\n\u001b[0;32m--> 156\u001b[0;31m         allow_unreachable=True, accumulate_grad=True)  # allow_unreachable flag\n\u001b[0m\u001b[1;32m    157\u001b[0m \u001b[0;34m\u001b[0m\u001b[0m\n\u001b[1;32m    158\u001b[0m \u001b[0;34m\u001b[0m\u001b[0m\n",
            "\u001b[0;31mKeyboardInterrupt\u001b[0m: "
          ]
        }
      ]
    },
    {
      "cell_type": "code",
      "source": [
        "# saving model checkpoint\n",
        "torch.save(model.state_dict(), 'weight.pt')"
      ],
      "metadata": {
        "id": "dR597CSL5D1D"
      },
      "execution_count": null,
      "outputs": []
    },
    {
      "cell_type": "code",
      "source": [
        "# load model checkpoint\n",
        "checkpoint = torch.load('weight.pt')\n",
        "model.load_state_dict(checkpoint)"
      ],
      "metadata": {
        "id": "qzGQG06k5pZF"
      },
      "execution_count": null,
      "outputs": []
    },
    {
      "cell_type": "markdown",
      "source": [
        "# Evaluation"
      ],
      "metadata": {
        "id": "MJll3GQ157-S"
      }
    },
    {
      "cell_type": "markdown",
      "source": [
        "### Class name mapping"
      ],
      "metadata": {
        "id": "QSeE7TMXRUXQ"
      }
    },
    {
      "cell_type": "code",
      "source": [
        "coarse_label = [\n",
        "'apple', # id 0\n",
        "'aquarium_fish',\n",
        "'baby',\n",
        "'bear',\n",
        "'beaver',\n",
        "'bed',\n",
        "'bee',\n",
        "'beetle',\n",
        "'bicycle',\n",
        "'bottle',\n",
        "'bowl',\n",
        "'boy',\n",
        "'bridge',\n",
        "'bus',\n",
        "'butterfly',\n",
        "'camel',\n",
        "'can',\n",
        "'castle',\n",
        "'caterpillar',\n",
        "'cattle',\n",
        "'chair',\n",
        "'chimpanzee',\n",
        "'clock',\n",
        "'cloud',\n",
        "'cockroach',\n",
        "'couch',\n",
        "'crab',\n",
        "'crocodile',\n",
        "'cup',\n",
        "'dinosaur',\n",
        "'dolphin',\n",
        "'elephant',\n",
        "'flatfish',\n",
        "'forest',\n",
        "'fox',\n",
        "'girl',\n",
        "'hamster',\n",
        "'house',\n",
        "'kangaroo',\n",
        "'computer_keyboard',\n",
        "'lamp',\n",
        "'lawn_mower',\n",
        "'leopard',\n",
        "'lion',\n",
        "'lizard',\n",
        "'lobster',\n",
        "'man',\n",
        "'maple_tree',\n",
        "'motorcycle',\n",
        "'mountain',\n",
        "'mouse',\n",
        "'mushroom',\n",
        "'oak_tree',\n",
        "'orange',\n",
        "'orchid',\n",
        "'otter',\n",
        "'palm_tree',\n",
        "'pear',\n",
        "'pickup_truck',\n",
        "'pine_tree',\n",
        "'plain',\n",
        "'plate',\n",
        "'poppy',\n",
        "'porcupine',\n",
        "'possum',\n",
        "'rabbit',\n",
        "'raccoon',\n",
        "'ray',\n",
        "'road',\n",
        "'rocket',\n",
        "'rose',\n",
        "'sea',\n",
        "'seal',\n",
        "'shark',\n",
        "'shrew',\n",
        "'skunk',\n",
        "'skyscraper',\n",
        "'snail',\n",
        "'snake',\n",
        "'spider',\n",
        "'squirrel',\n",
        "'streetcar',\n",
        "'sunflower',\n",
        "'sweet_pepper',\n",
        "'table',\n",
        "'tank',\n",
        "'telephone',\n",
        "'television',\n",
        "'tiger',\n",
        "'tractor',\n",
        "'train',\n",
        "'trout',\n",
        "'tulip',\n",
        "'turtle',\n",
        "'wardrobe',\n",
        "'whale',\n",
        "'willow_tree',\n",
        "'wolf',\n",
        "'woman',\n",
        "'worm',\n",
        "]"
      ],
      "metadata": {
        "id": "V4lwkjnkRWtx"
      },
      "execution_count": null,
      "outputs": []
    },
    {
      "cell_type": "markdown",
      "source": [
        "## Helper function"
      ],
      "metadata": {
        "id": "drcUWf5eQA2z"
      }
    },
    {
      "cell_type": "code",
      "source": [
        "import os\n",
        "import cv2\n",
        "import numpy as np"
      ],
      "metadata": {
        "id": "M4IFgPvz65Kr"
      },
      "execution_count": null,
      "outputs": []
    },
    {
      "cell_type": "code",
      "source": [
        "import matplotlib.pyplot as plt\n",
        "%matplotlib inline\n",
        "\n",
        "def table_image_plot(img_list, preds, max_col=3):\n",
        "  ax = []\n",
        "  cols = max_col\n",
        "  rows = len(img_list)//cols\n",
        "\n",
        "  fig = plt.figure()\n",
        "  for i in range(len(img_list)):\n",
        "    img = img_list[i].detach().numpy()\n",
        "    img = np.moveaxis(img, 0, -1)\n",
        "    img = cv2.cvtColor(img, cv2.COLOR_BGR2RGB)\n",
        "    ax.append(fig.add_subplot(rows, cols, i+1))\n",
        "    ax[-1].set_title(f\"class: {coarse_label[preds[i]]}\")\n",
        "    plt.imshow(img)\n",
        "  plt.show()"
      ],
      "metadata": {
        "id": "loRXvBPmPWyR"
      },
      "execution_count": null,
      "outputs": []
    },
    {
      "cell_type": "markdown",
      "source": [
        "## Load image from folder: `test`"
      ],
      "metadata": {
        "id": "-v7DlZpOP_Zg"
      }
    },
    {
      "cell_type": "code",
      "source": [
        "!unzip test.zip"
      ],
      "metadata": {
        "colab": {
          "base_uri": "https://localhost:8080/"
        },
        "id": "w0nqGiqDP_PC",
        "outputId": "751fc8d1-6186-4492-fd49-a02db64ff749"
      },
      "execution_count": null,
      "outputs": [
        {
          "output_type": "stream",
          "name": "stdout",
          "text": [
            "Archive:  test.zip\n",
            "  inflating: test/apples.jpg         \n",
            "  inflating: test/cloud.jpg          \n",
            "  inflating: test/mountain.jpg       \n"
          ]
        }
      ]
    },
    {
      "cell_type": "code",
      "source": [
        "model.eval()\n",
        "test_list = os.listdir('./test')\n",
        "img_list = []\n",
        "\n",
        "p = transforms.Compose([\n",
        "    transforms.ToPILImage(),\n",
        "    transforms.Resize((32, 32)),\n",
        "    transforms.ToTensor(),\n",
        "])\n",
        "for test_sample in test_list:\n",
        "  img = cv2.imread(os.path.join('./test', test_sample))\n",
        "  img_list.append(p(img))\n",
        "\n",
        "imgs = torch.stack(img_list).cuda()\n",
        "print(imgs.shape)\n",
        "preds = model(imgs)\n",
        "print(preds.shape)"
      ],
      "metadata": {
        "colab": {
          "base_uri": "https://localhost:8080/"
        },
        "id": "f8ViAyLc56wE",
        "outputId": "0c8b4d69-e814-4c2c-e959-5150537e86c0"
      },
      "execution_count": null,
      "outputs": [
        {
          "output_type": "stream",
          "name": "stdout",
          "text": [
            "torch.Size([3, 3, 32, 32])\n",
            "torch.Size([3, 100])\n"
          ]
        }
      ]
    },
    {
      "cell_type": "code",
      "source": [
        "# get the maxium prediction of each image\n",
        "preds = preds.cpu().argmax(dim=1)\n",
        "print(preds)"
      ],
      "metadata": {
        "colab": {
          "base_uri": "https://localhost:8080/"
        },
        "id": "1UOPu2xaChvS",
        "outputId": "620ccc1c-6263-4bb7-e00d-45ddc24d1377"
      },
      "execution_count": null,
      "outputs": [
        {
          "output_type": "stream",
          "name": "stdout",
          "text": [
            "tensor([23, 61, 61])\n"
          ]
        }
      ]
    },
    {
      "cell_type": "code",
      "source": [
        "table_image_plot(img_list, preds)"
      ],
      "metadata": {
        "colab": {
          "base_uri": "https://localhost:8080/",
          "height": 162
        },
        "id": "bOcbdXqZC516",
        "outputId": "28af7344-da48-40b7-f460-8abc877d180b"
      },
      "execution_count": null,
      "outputs": [
        {
          "output_type": "display_data",
          "data": {
            "image/png": "[encoded data removed]",
            "text/plain": [
              "<Figure size 432x288 with 3 Axes>"
            ]
          },
          "metadata": {
            "needs_background": "light"
          }
        }
      ]
    }
  ]
}